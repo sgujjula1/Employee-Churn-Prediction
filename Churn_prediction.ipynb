{
  "nbformat": 4,
  "nbformat_minor": 0,
  "metadata": {
    "colab": {
      "provenance": [],
      "toc_visible": true
    },
    "kernelspec": {
      "name": "python3",
      "display_name": "Python 3"
    },
    "language_info": {
      "name": "python"
    },
    "widgets": {
      "application/vnd.jupyter.widget-state+json": {
        "aaac49479edb49559fee0dab6629bcf3": {
          "model_module": "@jupyter-widgets/controls",
          "model_name": "HBoxModel",
          "model_module_version": "1.5.0",
          "state": {
            "_dom_classes": [],
            "_model_module": "@jupyter-widgets/controls",
            "_model_module_version": "1.5.0",
            "_model_name": "HBoxModel",
            "_view_count": null,
            "_view_module": "@jupyter-widgets/controls",
            "_view_module_version": "1.5.0",
            "_view_name": "HBoxView",
            "box_style": "",
            "children": [
              "IPY_MODEL_82ae32eeaf244912a41f07a7750d06ff",
              "IPY_MODEL_b1a91dcf3ef945ccaebcab8f75caf6e0",
              "IPY_MODEL_ed36ec8c53f641beafc267ed42e5b3b0"
            ],
            "layout": "IPY_MODEL_83fc876127c24fc3bf1f0c2a3bd981d7"
          }
        },
        "82ae32eeaf244912a41f07a7750d06ff": {
          "model_module": "@jupyter-widgets/controls",
          "model_name": "HTMLModel",
          "model_module_version": "1.5.0",
          "state": {
            "_dom_classes": [],
            "_model_module": "@jupyter-widgets/controls",
            "_model_module_version": "1.5.0",
            "_model_name": "HTMLModel",
            "_view_count": null,
            "_view_module": "@jupyter-widgets/controls",
            "_view_module_version": "1.5.0",
            "_view_name": "HTMLView",
            "description": "",
            "description_tooltip": null,
            "layout": "IPY_MODEL_f1aca243ca1b4c2a9a2c48e5655ffd59",
            "placeholder": "​",
            "style": "IPY_MODEL_18f1eec0bd484473bf04c0bfb837c791",
            "value": "100%"
          }
        },
        "b1a91dcf3ef945ccaebcab8f75caf6e0": {
          "model_module": "@jupyter-widgets/controls",
          "model_name": "FloatProgressModel",
          "model_module_version": "1.5.0",
          "state": {
            "_dom_classes": [],
            "_model_module": "@jupyter-widgets/controls",
            "_model_module_version": "1.5.0",
            "_model_name": "FloatProgressModel",
            "_view_count": null,
            "_view_module": "@jupyter-widgets/controls",
            "_view_module_version": "1.5.0",
            "_view_name": "ProgressView",
            "bar_style": "success",
            "description": "",
            "description_tooltip": null,
            "layout": "IPY_MODEL_abc4859c1f1a48e2b6a127405ef51519",
            "max": 100,
            "min": 0,
            "orientation": "horizontal",
            "style": "IPY_MODEL_b84815a974f44328ab2bc1d2c9cb4173",
            "value": 100
          }
        },
        "ed36ec8c53f641beafc267ed42e5b3b0": {
          "model_module": "@jupyter-widgets/controls",
          "model_name": "HTMLModel",
          "model_module_version": "1.5.0",
          "state": {
            "_dom_classes": [],
            "_model_module": "@jupyter-widgets/controls",
            "_model_module_version": "1.5.0",
            "_model_name": "HTMLModel",
            "_view_count": null,
            "_view_module": "@jupyter-widgets/controls",
            "_view_module_version": "1.5.0",
            "_view_name": "HTMLView",
            "description": "",
            "description_tooltip": null,
            "layout": "IPY_MODEL_c340828631bf4934a15d111ed69213c5",
            "placeholder": "​",
            "style": "IPY_MODEL_be9d12dd7dde461bb5b8ec4400e7d73d",
            "value": " 100/100 [01:42&lt;00:00,  1.02it/s]"
          }
        },
        "83fc876127c24fc3bf1f0c2a3bd981d7": {
          "model_module": "@jupyter-widgets/base",
          "model_name": "LayoutModel",
          "model_module_version": "1.2.0",
          "state": {
            "_model_module": "@jupyter-widgets/base",
            "_model_module_version": "1.2.0",
            "_model_name": "LayoutModel",
            "_view_count": null,
            "_view_module": "@jupyter-widgets/base",
            "_view_module_version": "1.2.0",
            "_view_name": "LayoutView",
            "align_content": null,
            "align_items": null,
            "align_self": null,
            "border": null,
            "bottom": null,
            "display": null,
            "flex": null,
            "flex_flow": null,
            "grid_area": null,
            "grid_auto_columns": null,
            "grid_auto_flow": null,
            "grid_auto_rows": null,
            "grid_column": null,
            "grid_gap": null,
            "grid_row": null,
            "grid_template_areas": null,
            "grid_template_columns": null,
            "grid_template_rows": null,
            "height": null,
            "justify_content": null,
            "justify_items": null,
            "left": null,
            "margin": null,
            "max_height": null,
            "max_width": null,
            "min_height": null,
            "min_width": null,
            "object_fit": null,
            "object_position": null,
            "order": null,
            "overflow": null,
            "overflow_x": null,
            "overflow_y": null,
            "padding": null,
            "right": null,
            "top": null,
            "visibility": null,
            "width": null
          }
        },
        "f1aca243ca1b4c2a9a2c48e5655ffd59": {
          "model_module": "@jupyter-widgets/base",
          "model_name": "LayoutModel",
          "model_module_version": "1.2.0",
          "state": {
            "_model_module": "@jupyter-widgets/base",
            "_model_module_version": "1.2.0",
            "_model_name": "LayoutModel",
            "_view_count": null,
            "_view_module": "@jupyter-widgets/base",
            "_view_module_version": "1.2.0",
            "_view_name": "LayoutView",
            "align_content": null,
            "align_items": null,
            "align_self": null,
            "border": null,
            "bottom": null,
            "display": null,
            "flex": null,
            "flex_flow": null,
            "grid_area": null,
            "grid_auto_columns": null,
            "grid_auto_flow": null,
            "grid_auto_rows": null,
            "grid_column": null,
            "grid_gap": null,
            "grid_row": null,
            "grid_template_areas": null,
            "grid_template_columns": null,
            "grid_template_rows": null,
            "height": null,
            "justify_content": null,
            "justify_items": null,
            "left": null,
            "margin": null,
            "max_height": null,
            "max_width": null,
            "min_height": null,
            "min_width": null,
            "object_fit": null,
            "object_position": null,
            "order": null,
            "overflow": null,
            "overflow_x": null,
            "overflow_y": null,
            "padding": null,
            "right": null,
            "top": null,
            "visibility": null,
            "width": null
          }
        },
        "18f1eec0bd484473bf04c0bfb837c791": {
          "model_module": "@jupyter-widgets/controls",
          "model_name": "DescriptionStyleModel",
          "model_module_version": "1.5.0",
          "state": {
            "_model_module": "@jupyter-widgets/controls",
            "_model_module_version": "1.5.0",
            "_model_name": "DescriptionStyleModel",
            "_view_count": null,
            "_view_module": "@jupyter-widgets/base",
            "_view_module_version": "1.2.0",
            "_view_name": "StyleView",
            "description_width": ""
          }
        },
        "abc4859c1f1a48e2b6a127405ef51519": {
          "model_module": "@jupyter-widgets/base",
          "model_name": "LayoutModel",
          "model_module_version": "1.2.0",
          "state": {
            "_model_module": "@jupyter-widgets/base",
            "_model_module_version": "1.2.0",
            "_model_name": "LayoutModel",
            "_view_count": null,
            "_view_module": "@jupyter-widgets/base",
            "_view_module_version": "1.2.0",
            "_view_name": "LayoutView",
            "align_content": null,
            "align_items": null,
            "align_self": null,
            "border": null,
            "bottom": null,
            "display": null,
            "flex": null,
            "flex_flow": null,
            "grid_area": null,
            "grid_auto_columns": null,
            "grid_auto_flow": null,
            "grid_auto_rows": null,
            "grid_column": null,
            "grid_gap": null,
            "grid_row": null,
            "grid_template_areas": null,
            "grid_template_columns": null,
            "grid_template_rows": null,
            "height": null,
            "justify_content": null,
            "justify_items": null,
            "left": null,
            "margin": null,
            "max_height": null,
            "max_width": null,
            "min_height": null,
            "min_width": null,
            "object_fit": null,
            "object_position": null,
            "order": null,
            "overflow": null,
            "overflow_x": null,
            "overflow_y": null,
            "padding": null,
            "right": null,
            "top": null,
            "visibility": null,
            "width": null
          }
        },
        "b84815a974f44328ab2bc1d2c9cb4173": {
          "model_module": "@jupyter-widgets/controls",
          "model_name": "ProgressStyleModel",
          "model_module_version": "1.5.0",
          "state": {
            "_model_module": "@jupyter-widgets/controls",
            "_model_module_version": "1.5.0",
            "_model_name": "ProgressStyleModel",
            "_view_count": null,
            "_view_module": "@jupyter-widgets/base",
            "_view_module_version": "1.2.0",
            "_view_name": "StyleView",
            "bar_color": null,
            "description_width": ""
          }
        },
        "c340828631bf4934a15d111ed69213c5": {
          "model_module": "@jupyter-widgets/base",
          "model_name": "LayoutModel",
          "model_module_version": "1.2.0",
          "state": {
            "_model_module": "@jupyter-widgets/base",
            "_model_module_version": "1.2.0",
            "_model_name": "LayoutModel",
            "_view_count": null,
            "_view_module": "@jupyter-widgets/base",
            "_view_module_version": "1.2.0",
            "_view_name": "LayoutView",
            "align_content": null,
            "align_items": null,
            "align_self": null,
            "border": null,
            "bottom": null,
            "display": null,
            "flex": null,
            "flex_flow": null,
            "grid_area": null,
            "grid_auto_columns": null,
            "grid_auto_flow": null,
            "grid_auto_rows": null,
            "grid_column": null,
            "grid_gap": null,
            "grid_row": null,
            "grid_template_areas": null,
            "grid_template_columns": null,
            "grid_template_rows": null,
            "height": null,
            "justify_content": null,
            "justify_items": null,
            "left": null,
            "margin": null,
            "max_height": null,
            "max_width": null,
            "min_height": null,
            "min_width": null,
            "object_fit": null,
            "object_position": null,
            "order": null,
            "overflow": null,
            "overflow_x": null,
            "overflow_y": null,
            "padding": null,
            "right": null,
            "top": null,
            "visibility": null,
            "width": null
          }
        },
        "be9d12dd7dde461bb5b8ec4400e7d73d": {
          "model_module": "@jupyter-widgets/controls",
          "model_name": "DescriptionStyleModel",
          "model_module_version": "1.5.0",
          "state": {
            "_model_module": "@jupyter-widgets/controls",
            "_model_module_version": "1.5.0",
            "_model_name": "DescriptionStyleModel",
            "_view_count": null,
            "_view_module": "@jupyter-widgets/base",
            "_view_module_version": "1.2.0",
            "_view_name": "StyleView",
            "description_width": ""
          }
        }
      }
    }
  },
  "cells": [
    {
      "cell_type": "markdown",
      "source": [
        "# Employee Churn Prediction\n",
        "\n",
        "In this notebook, we import employee churn dataset from a telcom company, and model for churn prediction. "
      ],
      "metadata": {
        "id": "g5K6nqLjco6V"
      }
    },
    {
      "cell_type": "markdown",
      "source": [
        "# Importing libraries"
      ],
      "metadata": {
        "id": "lNLF4jihbNiO"
      }
    },
    {
      "cell_type": "code",
      "source": [
        "!pip install shap"
      ],
      "metadata": {
        "colab": {
          "base_uri": "https://localhost:8080/"
        },
        "id": "A5FtDMKJ5Ue8",
        "outputId": "9b1949fa-6ce3-46a4-8fea-af3c65735f64"
      },
      "execution_count": null,
      "outputs": [
        {
          "output_type": "stream",
          "name": "stdout",
          "text": [
            "Looking in indexes: https://pypi.org/simple, https://us-python.pkg.dev/colab-wheels/public/simple/\n",
            "Requirement already satisfied: shap in /usr/local/lib/python3.10/dist-packages (0.41.0)\n",
            "Requirement already satisfied: numpy in /usr/local/lib/python3.10/dist-packages (from shap) (1.22.4)\n",
            "Requirement already satisfied: scipy in /usr/local/lib/python3.10/dist-packages (from shap) (1.10.1)\n",
            "Requirement already satisfied: scikit-learn in /usr/local/lib/python3.10/dist-packages (from shap) (1.2.2)\n",
            "Requirement already satisfied: pandas in /usr/local/lib/python3.10/dist-packages (from shap) (1.5.3)\n",
            "Requirement already satisfied: tqdm>4.25.0 in /usr/local/lib/python3.10/dist-packages (from shap) (4.65.0)\n",
            "Requirement already satisfied: packaging>20.9 in /usr/local/lib/python3.10/dist-packages (from shap) (23.1)\n",
            "Requirement already satisfied: slicer==0.0.7 in /usr/local/lib/python3.10/dist-packages (from shap) (0.0.7)\n",
            "Requirement already satisfied: numba in /usr/local/lib/python3.10/dist-packages (from shap) (0.56.4)\n",
            "Requirement already satisfied: cloudpickle in /usr/local/lib/python3.10/dist-packages (from shap) (2.2.1)\n",
            "Requirement already satisfied: llvmlite<0.40,>=0.39.0dev0 in /usr/local/lib/python3.10/dist-packages (from numba->shap) (0.39.1)\n",
            "Requirement already satisfied: setuptools in /usr/local/lib/python3.10/dist-packages (from numba->shap) (67.7.2)\n",
            "Requirement already satisfied: python-dateutil>=2.8.1 in /usr/local/lib/python3.10/dist-packages (from pandas->shap) (2.8.2)\n",
            "Requirement already satisfied: pytz>=2020.1 in /usr/local/lib/python3.10/dist-packages (from pandas->shap) (2022.7.1)\n",
            "Requirement already satisfied: joblib>=1.1.1 in /usr/local/lib/python3.10/dist-packages (from scikit-learn->shap) (1.2.0)\n",
            "Requirement already satisfied: threadpoolctl>=2.0.0 in /usr/local/lib/python3.10/dist-packages (from scikit-learn->shap) (3.1.0)\n",
            "Requirement already satisfied: six>=1.5 in /usr/local/lib/python3.10/dist-packages (from python-dateutil>=2.8.1->pandas->shap) (1.16.0)\n"
          ]
        }
      ]
    },
    {
      "cell_type": "code",
      "execution_count": null,
      "metadata": {
        "id": "xCtyggACf5fM"
      },
      "outputs": [],
      "source": [
        "import pandas as pd\n",
        "import numpy as np\n",
        "\n",
        "from sklearn.pipeline import Pipeline \n",
        "from sklearn.compose import ColumnTransformer, make_column_selector as ColumnSelector\n",
        "from sklearn.preprocessing import FunctionTransformer, StandardScaler\n",
        "from sklearn.preprocessing import OneHotEncoder \n",
        "from imblearn.pipeline import Pipeline as imbPipeline\n",
        "from imblearn.over_sampling import RandomOverSampler, SMOTE, SMOTENC\n",
        "from sklearn.model_selection import train_test_split\n",
        "from sklearn.decomposition import PCA, NMF\n",
        "from sklearn.metrics import log_loss,confusion_matrix,classification_report, roc_curve, precision_recall_curve\n",
        "import matplotlib.pyplot as plt\n",
        "\n",
        "import lightgbm\n",
        "from lightgbm import LGBMClassifier\n",
        "\n",
        "from hyperopt import hp, tpe, fmin, STATUS_OK, Trials\n",
        "\n",
        "import shap\n",
        "from shap import KernelExplainer, summary_plot"
      ]
    },
    {
      "cell_type": "markdown",
      "source": [
        "# Load Data"
      ],
      "metadata": {
        "id": "yskojVUNgrvP"
      }
    },
    {
      "cell_type": "code",
      "source": [
        "df = pd.read_csv(\"/content/sample_data/WA_Fn-UseC_-Telco-Customer-Churn.csv\")\n",
        "df.head()"
      ],
      "metadata": {
        "colab": {
          "base_uri": "https://localhost:8080/",
          "height": 386
        },
        "id": "UwrFOk_qgmxj",
        "outputId": "2c027cf8-f325-438c-982f-791c208f2487"
      },
      "execution_count": null,
      "outputs": [
        {
          "output_type": "execute_result",
          "data": {
            "text/plain": [
              "   customerID  gender  SeniorCitizen Partner Dependents  tenure PhoneService  \\\n",
              "0  7590-VHVEG  Female              0     Yes         No       1           No   \n",
              "1  5575-GNVDE    Male              0      No         No      34          Yes   \n",
              "2  3668-QPYBK    Male              0      No         No       2          Yes   \n",
              "3  7795-CFOCW    Male              0      No         No      45           No   \n",
              "4  9237-HQITU  Female              0      No         No       2          Yes   \n",
              "\n",
              "      MultipleLines InternetService OnlineSecurity  ... DeviceProtection  \\\n",
              "0  No phone service             DSL             No  ...               No   \n",
              "1                No             DSL            Yes  ...              Yes   \n",
              "2                No             DSL            Yes  ...               No   \n",
              "3  No phone service             DSL            Yes  ...              Yes   \n",
              "4                No     Fiber optic             No  ...               No   \n",
              "\n",
              "  TechSupport StreamingTV StreamingMovies        Contract PaperlessBilling  \\\n",
              "0          No          No              No  Month-to-month              Yes   \n",
              "1          No          No              No        One year               No   \n",
              "2          No          No              No  Month-to-month              Yes   \n",
              "3         Yes          No              No        One year               No   \n",
              "4          No          No              No  Month-to-month              Yes   \n",
              "\n",
              "               PaymentMethod MonthlyCharges  TotalCharges Churn  \n",
              "0           Electronic check          29.85         29.85    No  \n",
              "1               Mailed check          56.95        1889.5    No  \n",
              "2               Mailed check          53.85        108.15   Yes  \n",
              "3  Bank transfer (automatic)          42.30       1840.75    No  \n",
              "4           Electronic check          70.70        151.65   Yes  \n",
              "\n",
              "[5 rows x 21 columns]"
            ],
            "text/html": [
              "\n",
              "  <div id=\"df-b380f687-0fd8-412d-a065-f05b7a4045f3\">\n",
              "    <div class=\"colab-df-container\">\n",
              "      <div>\n",
              "<style scoped>\n",
              "    .dataframe tbody tr th:only-of-type {\n",
              "        vertical-align: middle;\n",
              "    }\n",
              "\n",
              "    .dataframe tbody tr th {\n",
              "        vertical-align: top;\n",
              "    }\n",
              "\n",
              "    .dataframe thead th {\n",
              "        text-align: right;\n",
              "    }\n",
              "</style>\n",
              "<table border=\"1\" class=\"dataframe\">\n",
              "  <thead>\n",
              "    <tr style=\"text-align: right;\">\n",
              "      <th></th>\n",
              "      <th>customerID</th>\n",
              "      <th>gender</th>\n",
              "      <th>SeniorCitizen</th>\n",
              "      <th>Partner</th>\n",
              "      <th>Dependents</th>\n",
              "      <th>tenure</th>\n",
              "      <th>PhoneService</th>\n",
              "      <th>MultipleLines</th>\n",
              "      <th>InternetService</th>\n",
              "      <th>OnlineSecurity</th>\n",
              "      <th>...</th>\n",
              "      <th>DeviceProtection</th>\n",
              "      <th>TechSupport</th>\n",
              "      <th>StreamingTV</th>\n",
              "      <th>StreamingMovies</th>\n",
              "      <th>Contract</th>\n",
              "      <th>PaperlessBilling</th>\n",
              "      <th>PaymentMethod</th>\n",
              "      <th>MonthlyCharges</th>\n",
              "      <th>TotalCharges</th>\n",
              "      <th>Churn</th>\n",
              "    </tr>\n",
              "  </thead>\n",
              "  <tbody>\n",
              "    <tr>\n",
              "      <th>0</th>\n",
              "      <td>7590-VHVEG</td>\n",
              "      <td>Female</td>\n",
              "      <td>0</td>\n",
              "      <td>Yes</td>\n",
              "      <td>No</td>\n",
              "      <td>1</td>\n",
              "      <td>No</td>\n",
              "      <td>No phone service</td>\n",
              "      <td>DSL</td>\n",
              "      <td>No</td>\n",
              "      <td>...</td>\n",
              "      <td>No</td>\n",
              "      <td>No</td>\n",
              "      <td>No</td>\n",
              "      <td>No</td>\n",
              "      <td>Month-to-month</td>\n",
              "      <td>Yes</td>\n",
              "      <td>Electronic check</td>\n",
              "      <td>29.85</td>\n",
              "      <td>29.85</td>\n",
              "      <td>No</td>\n",
              "    </tr>\n",
              "    <tr>\n",
              "      <th>1</th>\n",
              "      <td>5575-GNVDE</td>\n",
              "      <td>Male</td>\n",
              "      <td>0</td>\n",
              "      <td>No</td>\n",
              "      <td>No</td>\n",
              "      <td>34</td>\n",
              "      <td>Yes</td>\n",
              "      <td>No</td>\n",
              "      <td>DSL</td>\n",
              "      <td>Yes</td>\n",
              "      <td>...</td>\n",
              "      <td>Yes</td>\n",
              "      <td>No</td>\n",
              "      <td>No</td>\n",
              "      <td>No</td>\n",
              "      <td>One year</td>\n",
              "      <td>No</td>\n",
              "      <td>Mailed check</td>\n",
              "      <td>56.95</td>\n",
              "      <td>1889.5</td>\n",
              "      <td>No</td>\n",
              "    </tr>\n",
              "    <tr>\n",
              "      <th>2</th>\n",
              "      <td>3668-QPYBK</td>\n",
              "      <td>Male</td>\n",
              "      <td>0</td>\n",
              "      <td>No</td>\n",
              "      <td>No</td>\n",
              "      <td>2</td>\n",
              "      <td>Yes</td>\n",
              "      <td>No</td>\n",
              "      <td>DSL</td>\n",
              "      <td>Yes</td>\n",
              "      <td>...</td>\n",
              "      <td>No</td>\n",
              "      <td>No</td>\n",
              "      <td>No</td>\n",
              "      <td>No</td>\n",
              "      <td>Month-to-month</td>\n",
              "      <td>Yes</td>\n",
              "      <td>Mailed check</td>\n",
              "      <td>53.85</td>\n",
              "      <td>108.15</td>\n",
              "      <td>Yes</td>\n",
              "    </tr>\n",
              "    <tr>\n",
              "      <th>3</th>\n",
              "      <td>7795-CFOCW</td>\n",
              "      <td>Male</td>\n",
              "      <td>0</td>\n",
              "      <td>No</td>\n",
              "      <td>No</td>\n",
              "      <td>45</td>\n",
              "      <td>No</td>\n",
              "      <td>No phone service</td>\n",
              "      <td>DSL</td>\n",
              "      <td>Yes</td>\n",
              "      <td>...</td>\n",
              "      <td>Yes</td>\n",
              "      <td>Yes</td>\n",
              "      <td>No</td>\n",
              "      <td>No</td>\n",
              "      <td>One year</td>\n",
              "      <td>No</td>\n",
              "      <td>Bank transfer (automatic)</td>\n",
              "      <td>42.30</td>\n",
              "      <td>1840.75</td>\n",
              "      <td>No</td>\n",
              "    </tr>\n",
              "    <tr>\n",
              "      <th>4</th>\n",
              "      <td>9237-HQITU</td>\n",
              "      <td>Female</td>\n",
              "      <td>0</td>\n",
              "      <td>No</td>\n",
              "      <td>No</td>\n",
              "      <td>2</td>\n",
              "      <td>Yes</td>\n",
              "      <td>No</td>\n",
              "      <td>Fiber optic</td>\n",
              "      <td>No</td>\n",
              "      <td>...</td>\n",
              "      <td>No</td>\n",
              "      <td>No</td>\n",
              "      <td>No</td>\n",
              "      <td>No</td>\n",
              "      <td>Month-to-month</td>\n",
              "      <td>Yes</td>\n",
              "      <td>Electronic check</td>\n",
              "      <td>70.70</td>\n",
              "      <td>151.65</td>\n",
              "      <td>Yes</td>\n",
              "    </tr>\n",
              "  </tbody>\n",
              "</table>\n",
              "<p>5 rows × 21 columns</p>\n",
              "</div>\n",
              "      <button class=\"colab-df-convert\" onclick=\"convertToInteractive('df-b380f687-0fd8-412d-a065-f05b7a4045f3')\"\n",
              "              title=\"Convert this dataframe to an interactive table.\"\n",
              "              style=\"display:none;\">\n",
              "        \n",
              "  <svg xmlns=\"http://www.w3.org/2000/svg\" height=\"24px\"viewBox=\"0 0 24 24\"\n",
              "       width=\"24px\">\n",
              "    <path d=\"M0 0h24v24H0V0z\" fill=\"none\"/>\n",
              "    <path d=\"M18.56 5.44l.94 2.06.94-2.06 2.06-.94-2.06-.94-.94-2.06-.94 2.06-2.06.94zm-11 1L8.5 8.5l.94-2.06 2.06-.94-2.06-.94L8.5 2.5l-.94 2.06-2.06.94zm10 10l.94 2.06.94-2.06 2.06-.94-2.06-.94-.94-2.06-.94 2.06-2.06.94z\"/><path d=\"M17.41 7.96l-1.37-1.37c-.4-.4-.92-.59-1.43-.59-.52 0-1.04.2-1.43.59L10.3 9.45l-7.72 7.72c-.78.78-.78 2.05 0 2.83L4 21.41c.39.39.9.59 1.41.59.51 0 1.02-.2 1.41-.59l7.78-7.78 2.81-2.81c.8-.78.8-2.07 0-2.86zM5.41 20L4 18.59l7.72-7.72 1.47 1.35L5.41 20z\"/>\n",
              "  </svg>\n",
              "      </button>\n",
              "      \n",
              "  <style>\n",
              "    .colab-df-container {\n",
              "      display:flex;\n",
              "      flex-wrap:wrap;\n",
              "      gap: 12px;\n",
              "    }\n",
              "\n",
              "    .colab-df-convert {\n",
              "      background-color: #E8F0FE;\n",
              "      border: none;\n",
              "      border-radius: 50%;\n",
              "      cursor: pointer;\n",
              "      display: none;\n",
              "      fill: #1967D2;\n",
              "      height: 32px;\n",
              "      padding: 0 0 0 0;\n",
              "      width: 32px;\n",
              "    }\n",
              "\n",
              "    .colab-df-convert:hover {\n",
              "      background-color: #E2EBFA;\n",
              "      box-shadow: 0px 1px 2px rgba(60, 64, 67, 0.3), 0px 1px 3px 1px rgba(60, 64, 67, 0.15);\n",
              "      fill: #174EA6;\n",
              "    }\n",
              "\n",
              "    [theme=dark] .colab-df-convert {\n",
              "      background-color: #3B4455;\n",
              "      fill: #D2E3FC;\n",
              "    }\n",
              "\n",
              "    [theme=dark] .colab-df-convert:hover {\n",
              "      background-color: #434B5C;\n",
              "      box-shadow: 0px 1px 3px 1px rgba(0, 0, 0, 0.15);\n",
              "      filter: drop-shadow(0px 1px 2px rgba(0, 0, 0, 0.3));\n",
              "      fill: #FFFFFF;\n",
              "    }\n",
              "  </style>\n",
              "\n",
              "      <script>\n",
              "        const buttonEl =\n",
              "          document.querySelector('#df-b380f687-0fd8-412d-a065-f05b7a4045f3 button.colab-df-convert');\n",
              "        buttonEl.style.display =\n",
              "          google.colab.kernel.accessAllowed ? 'block' : 'none';\n",
              "\n",
              "        async function convertToInteractive(key) {\n",
              "          const element = document.querySelector('#df-b380f687-0fd8-412d-a065-f05b7a4045f3');\n",
              "          const dataTable =\n",
              "            await google.colab.kernel.invokeFunction('convertToInteractive',\n",
              "                                                     [key], {});\n",
              "          if (!dataTable) return;\n",
              "\n",
              "          const docLinkHtml = 'Like what you see? Visit the ' +\n",
              "            '<a target=\"_blank\" href=https://colab.research.google.com/notebooks/data_table.ipynb>data table notebook</a>'\n",
              "            + ' to learn more about interactive tables.';\n",
              "          element.innerHTML = '';\n",
              "          dataTable['output_type'] = 'display_data';\n",
              "          await google.colab.output.renderOutput(dataTable, element);\n",
              "          const docLink = document.createElement('div');\n",
              "          docLink.innerHTML = docLinkHtml;\n",
              "          element.appendChild(docLink);\n",
              "        }\n",
              "      </script>\n",
              "    </div>\n",
              "  </div>\n",
              "  "
            ]
          },
          "metadata": {},
          "execution_count": 501
        }
      ]
    },
    {
      "cell_type": "code",
      "source": [
        "#Select only required columns. We could drop columns like- \"customerID\" which is not required for the pipeline\n",
        "\n",
        "df= df.drop('customerID', axis=1)"
      ],
      "metadata": {
        "id": "jnNeBMRVt8yP"
      },
      "execution_count": null,
      "outputs": []
    },
    {
      "cell_type": "code",
      "source": [
        "df.dtypes"
      ],
      "metadata": {
        "colab": {
          "base_uri": "https://localhost:8080/"
        },
        "id": "TGOhb88MmR-X",
        "outputId": "1bf930fb-1eb3-489e-c4a2-6d1982a067d1"
      },
      "execution_count": null,
      "outputs": [
        {
          "output_type": "execute_result",
          "data": {
            "text/plain": [
              "gender               object\n",
              "SeniorCitizen         int64\n",
              "Partner              object\n",
              "Dependents           object\n",
              "tenure                int64\n",
              "PhoneService         object\n",
              "MultipleLines        object\n",
              "InternetService      object\n",
              "OnlineSecurity       object\n",
              "OnlineBackup         object\n",
              "DeviceProtection     object\n",
              "TechSupport          object\n",
              "StreamingTV          object\n",
              "StreamingMovies      object\n",
              "Contract             object\n",
              "PaperlessBilling     object\n",
              "PaymentMethod        object\n",
              "MonthlyCharges      float64\n",
              "TotalCharges         object\n",
              "Churn                object\n",
              "dtype: object"
            ]
          },
          "metadata": {},
          "execution_count": 503
        }
      ]
    },
    {
      "cell_type": "markdown",
      "source": [
        "# Preprocessing Data"
      ],
      "metadata": {
        "id": "6ilAQZ_NhHlN"
      }
    },
    {
      "cell_type": "code",
      "source": [
        "df.shape"
      ],
      "metadata": {
        "colab": {
          "base_uri": "https://localhost:8080/"
        },
        "id": "S-PWneoihVrO",
        "outputId": "777482d0-70c5-4c63-d45f-7101f9b7574e"
      },
      "execution_count": null,
      "outputs": [
        {
          "output_type": "execute_result",
          "data": {
            "text/plain": [
              "(7043, 20)"
            ]
          },
          "metadata": {},
          "execution_count": 504
        }
      ]
    },
    {
      "cell_type": "code",
      "source": [
        "#Shape of lables\n",
        "\n",
        "counts = df['Churn'].value_counts()\n",
        "ax = counts.plot(kind='bar')\n",
        "for i, v in enumerate(counts):\n",
        "    ax.text(i, v + 10, str(v), ha='center')\n",
        "\n",
        "plt.show()\n",
        "\n",
        "#We can see that there is class imbalance in the prediction label.\n",
        "#Hence, we employ over sampling on minorty class in the pipeline to be defined below."
      ],
      "metadata": {
        "colab": {
          "base_uri": "https://localhost:8080/",
          "height": 438
        },
        "id": "JlIGnZ-EMsH_",
        "outputId": "b80bd632-6684-436d-ca1f-800821fa0946"
      },
      "execution_count": null,
      "outputs": [
        {
          "output_type": "display_data",
          "data": {
            "text/plain": [
              "<Figure size 640x480 with 1 Axes>"
            ],
            "image/png": "[encoded data removed]"
          },
          "metadata": {}
        }
      ]
    },
    {
      "cell_type": "markdown",
      "source": [
        "### Datatype conversions"
      ],
      "metadata": {
        "id": "s8BFEN9emi2q"
      }
    },
    {
      "cell_type": "code",
      "source": [
        "obj_cols= ['gender', 'SeniorCitizen', 'Partner', 'Dependents', 'PhoneService', 'MultipleLines', 'InternetService', 'OnlineSecurity',\n",
        "       'OnlineBackup', 'DeviceProtection', 'TechSupport', 'StreamingTV','StreamingMovies', 'Contract', 'PaperlessBilling', 'PaymentMethod','Churn']\n",
        "for col in obj_cols:\n",
        "  df[col]= df[col].astype(str)\n",
        "\n",
        "\n",
        "num_cols= ['tenure','MonthlyCharges', 'TotalCharges']\n",
        "for col in num_cols:\n",
        "  df[col]= pd.to_numeric(df[col],errors='coerce')"
      ],
      "metadata": {
        "id": "ugUZK4UclVXE"
      },
      "execution_count": null,
      "outputs": []
    },
    {
      "cell_type": "code",
      "source": [
        "df.isnull().sum() #Looking for null values"
      ],
      "metadata": {
        "colab": {
          "base_uri": "https://localhost:8080/"
        },
        "id": "Y4F82rpyn8uH",
        "outputId": "cc0f4aac-5dc5-43a2-e4f8-907dbb2bf68e"
      },
      "execution_count": null,
      "outputs": [
        {
          "output_type": "execute_result",
          "data": {
            "text/plain": [
              "gender              0\n",
              "SeniorCitizen       0\n",
              "Partner             0\n",
              "Dependents          0\n",
              "tenure              0\n",
              "PhoneService        0\n",
              "MultipleLines       0\n",
              "InternetService     0\n",
              "OnlineSecurity      0\n",
              "OnlineBackup        0\n",
              "DeviceProtection    0\n",
              "TechSupport         0\n",
              "StreamingTV         0\n",
              "StreamingMovies     0\n",
              "Contract            0\n",
              "PaperlessBilling    0\n",
              "PaymentMethod       0\n",
              "MonthlyCharges      0\n",
              "TotalCharges        0\n",
              "Churn               0\n",
              "dtype: int64"
            ]
          },
          "metadata": {},
          "execution_count": 530
        }
      ]
    },
    {
      "cell_type": "code",
      "source": [
        "#Drop null values in column 'TotalCharges'\n",
        "\n",
        "df= df.dropna()\n",
        "df.shape"
      ],
      "metadata": {
        "colab": {
          "base_uri": "https://localhost:8080/"
        },
        "id": "kGNGhNrXn-SI",
        "outputId": "2de53c40-529e-4d87-e844-6c104f8370ed"
      },
      "execution_count": null,
      "outputs": [
        {
          "output_type": "execute_result",
          "data": {
            "text/plain": [
              "(7032, 20)"
            ]
          },
          "metadata": {},
          "execution_count": 508
        }
      ]
    },
    {
      "cell_type": "markdown",
      "source": [
        "### Create a pipeline for preprocessing"
      ],
      "metadata": {
        "id": "RKOITZQTbbQz"
      }
    },
    {
      "cell_type": "code",
      "source": [
        "#list of different types of columns\n",
        "bool_cols=[\"gender\", \"Partner\", \"PaperlessBilling\", \"PhoneService\", \"Dependents\", \"SeniorCitizen\"]\n",
        "category_cols=[\"Contract\", \"DeviceProtection\", \"InternetService\", \"MultipleLines\", \"OnlineBackup\",\n",
        "               \"OnlineSecurity\", \"PaymentMethod\", \"StreamingMovies\", \"StreamingTV\", \"TechSupport\"]\n",
        "num_cols=[\"MonthlyCharges\", \"tenure\", \"TotalCharges\"]"
      ],
      "metadata": {
        "id": "7VL9cM6gjA0m"
      },
      "execution_count": null,
      "outputs": []
    },
    {
      "cell_type": "code",
      "source": [
        "#Bundle preprocessing for numerical and categorical data\n",
        "\n",
        "preprocessor = ColumnTransformer(\n",
        "    transformers=[\n",
        "        \n",
        "        (\"boolean\", OneHotEncoder(handle_unknown=\"ignore\", drop=\"first\"), bool_cols),\n",
        "        (\"one_hot_encoder\", OneHotEncoder(handle_unknown=\"infrequent_if_exist\"), category_cols),\n",
        "        (\"standardizer\", StandardScaler(), num_cols)\n",
        "    ], remainder=\"passthrough\", sparse_threshold=1)\n",
        "\n",
        "preprocessor"
      ],
      "metadata": {
        "colab": {
          "base_uri": "https://localhost:8080/",
          "height": 118
        },
        "id": "elgcKq9Gnfgq",
        "outputId": "8823333f-a7c9-48f9-a85e-c8728f1f6836"
      },
      "execution_count": null,
      "outputs": [
        {
          "output_type": "execute_result",
          "data": {
            "text/plain": [
              "ColumnTransformer(remainder='passthrough', sparse_threshold=1,\n",
              "                  transformers=[('boolean',\n",
              "                                 OneHotEncoder(drop='first',\n",
              "                                               handle_unknown='ignore'),\n",
              "                                 ['gender', 'Partner', 'PaperlessBilling',\n",
              "                                  'PhoneService', 'Dependents',\n",
              "                                  'SeniorCitizen']),\n",
              "                                ('one_hot_encoder',\n",
              "                                 OneHotEncoder(handle_unknown='infrequent_if_exist'),\n",
              "                                 ['Contract', 'DeviceProtection',\n",
              "                                  'InternetService', 'MultipleLines',\n",
              "                                  'OnlineBackup', 'OnlineSecurity',\n",
              "                                  'PaymentMethod', 'StreamingMovies',\n",
              "                                  'StreamingTV', 'TechSupport']),\n",
              "                                ('standardizer', StandardScaler(),\n",
              "                                 ['MonthlyCharges', 'tenure', 'TotalCharges'])])"
            ],
            "text/html": [
              "<style>#sk-container-id-71 {color: black;background-color: white;}#sk-container-id-71 pre{padding: 0;}#sk-container-id-71 div.sk-toggleable {background-color: white;}#sk-container-id-71 label.sk-toggleable__label {cursor: pointer;display: block;width: 100%;margin-bottom: 0;padding: 0.3em;box-sizing: border-box;text-align: center;}#sk-container-id-71 label.sk-toggleable__label-arrow:before {content: \"▸\";float: left;margin-right: 0.25em;color: #696969;}#sk-container-id-71 label.sk-toggleable__label-arrow:hover:before {color: black;}#sk-container-id-71 div.sk-estimator:hover label.sk-toggleable__label-arrow:before {color: black;}#sk-container-id-71 div.sk-toggleable__content {max-height: 0;max-width: 0;overflow: hidden;text-align: left;background-color: #f0f8ff;}#sk-container-id-71 div.sk-toggleable__content pre {margin: 0.2em;color: black;border-radius: 0.25em;background-color: #f0f8ff;}#sk-container-id-71 input.sk-toggleable__control:checked~div.sk-toggleable__content {max-height: 200px;max-width: 100%;overflow: auto;}#sk-container-id-71 input.sk-toggleable__control:checked~label.sk-toggleable__label-arrow:before {content: \"▾\";}#sk-container-id-71 div.sk-estimator input.sk-toggleable__control:checked~label.sk-toggleable__label {background-color: #d4ebff;}#sk-container-id-71 div.sk-label input.sk-toggleable__control:checked~label.sk-toggleable__label {background-color: #d4ebff;}#sk-container-id-71 input.sk-hidden--visually {border: 0;clip: rect(1px 1px 1px 1px);clip: rect(1px, 1px, 1px, 1px);height: 1px;margin: -1px;overflow: hidden;padding: 0;position: absolute;width: 1px;}#sk-container-id-71 div.sk-estimator {font-family: monospace;background-color: #f0f8ff;border: 1px dotted black;border-radius: 0.25em;box-sizing: border-box;margin-bottom: 0.5em;}#sk-container-id-71 div.sk-estimator:hover {background-color: #d4ebff;}#sk-container-id-71 div.sk-parallel-item::after {content: \"\";width: 100%;border-bottom: 1px solid gray;flex-grow: 1;}#sk-container-id-71 div.sk-label:hover label.sk-toggleable__label {background-color: #d4ebff;}#sk-container-id-71 div.sk-serial::before {content: \"\";position: absolute;border-left: 1px solid gray;box-sizing: border-box;top: 0;bottom: 0;left: 50%;z-index: 0;}#sk-container-id-71 div.sk-serial {display: flex;flex-direction: column;align-items: center;background-color: white;padding-right: 0.2em;padding-left: 0.2em;position: relative;}#sk-container-id-71 div.sk-item {position: relative;z-index: 1;}#sk-container-id-71 div.sk-parallel {display: flex;align-items: stretch;justify-content: center;background-color: white;position: relative;}#sk-container-id-71 div.sk-item::before, #sk-container-id-71 div.sk-parallel-item::before {content: \"\";position: absolute;border-left: 1px solid gray;box-sizing: border-box;top: 0;bottom: 0;left: 50%;z-index: -1;}#sk-container-id-71 div.sk-parallel-item {display: flex;flex-direction: column;z-index: 1;position: relative;background-color: white;}#sk-container-id-71 div.sk-parallel-item:first-child::after {align-self: flex-end;width: 50%;}#sk-container-id-71 div.sk-parallel-item:last-child::after {align-self: flex-start;width: 50%;}#sk-container-id-71 div.sk-parallel-item:only-child::after {width: 0;}#sk-container-id-71 div.sk-dashed-wrapped {border: 1px dashed gray;margin: 0 0.4em 0.5em 0.4em;box-sizing: border-box;padding-bottom: 0.4em;background-color: white;}#sk-container-id-71 div.sk-label label {font-family: monospace;font-weight: bold;display: inline-block;line-height: 1.2em;}#sk-container-id-71 div.sk-label-container {text-align: center;}#sk-container-id-71 div.sk-container {/* jupyter's `normalize.less` sets `[hidden] { display: none; }` but bootstrap.min.css set `[hidden] { display: none !important; }` so we also need the `!important` here to be able to override the default hidden behavior on the sphinx rendered scikit-learn.org. See: https://github.com/scikit-learn/scikit-learn/issues/21755 */display: inline-block !important;position: relative;}#sk-container-id-71 div.sk-text-repr-fallback {display: none;}</style><div id=\"sk-container-id-71\" class=\"sk-top-container\"><div class=\"sk-text-repr-fallback\"><pre>ColumnTransformer(remainder=&#x27;passthrough&#x27;, sparse_threshold=1,\n",
              "                  transformers=[(&#x27;boolean&#x27;,\n",
              "                                 OneHotEncoder(drop=&#x27;first&#x27;,\n",
              "                                               handle_unknown=&#x27;ignore&#x27;),\n",
              "                                 [&#x27;gender&#x27;, &#x27;Partner&#x27;, &#x27;PaperlessBilling&#x27;,\n",
              "                                  &#x27;PhoneService&#x27;, &#x27;Dependents&#x27;,\n",
              "                                  &#x27;SeniorCitizen&#x27;]),\n",
              "                                (&#x27;one_hot_encoder&#x27;,\n",
              "                                 OneHotEncoder(handle_unknown=&#x27;infrequent_if_exist&#x27;),\n",
              "                                 [&#x27;Contract&#x27;, &#x27;DeviceProtection&#x27;,\n",
              "                                  &#x27;InternetService&#x27;, &#x27;MultipleLines&#x27;,\n",
              "                                  &#x27;OnlineBackup&#x27;, &#x27;OnlineSecurity&#x27;,\n",
              "                                  &#x27;PaymentMethod&#x27;, &#x27;StreamingMovies&#x27;,\n",
              "                                  &#x27;StreamingTV&#x27;, &#x27;TechSupport&#x27;]),\n",
              "                                (&#x27;standardizer&#x27;, StandardScaler(),\n",
              "                                 [&#x27;MonthlyCharges&#x27;, &#x27;tenure&#x27;, &#x27;TotalCharges&#x27;])])</pre><b>In a Jupyter environment, please rerun this cell to show the HTML representation or trust the notebook. <br />On GitHub, the HTML representation is unable to render, please try loading this page with nbviewer.org.</b></div><div class=\"sk-container\" hidden><div class=\"sk-item sk-dashed-wrapped\"><div class=\"sk-label-container\"><div class=\"sk-label sk-toggleable\"><input class=\"sk-toggleable__control sk-hidden--visually\" id=\"sk-estimator-id-773\" type=\"checkbox\" ><label for=\"sk-estimator-id-773\" class=\"sk-toggleable__label sk-toggleable__label-arrow\">ColumnTransformer</label><div class=\"sk-toggleable__content\"><pre>ColumnTransformer(remainder=&#x27;passthrough&#x27;, sparse_threshold=1,\n",
              "                  transformers=[(&#x27;boolean&#x27;,\n",
              "                                 OneHotEncoder(drop=&#x27;first&#x27;,\n",
              "                                               handle_unknown=&#x27;ignore&#x27;),\n",
              "                                 [&#x27;gender&#x27;, &#x27;Partner&#x27;, &#x27;PaperlessBilling&#x27;,\n",
              "                                  &#x27;PhoneService&#x27;, &#x27;Dependents&#x27;,\n",
              "                                  &#x27;SeniorCitizen&#x27;]),\n",
              "                                (&#x27;one_hot_encoder&#x27;,\n",
              "                                 OneHotEncoder(handle_unknown=&#x27;infrequent_if_exist&#x27;),\n",
              "                                 [&#x27;Contract&#x27;, &#x27;DeviceProtection&#x27;,\n",
              "                                  &#x27;InternetService&#x27;, &#x27;MultipleLines&#x27;,\n",
              "                                  &#x27;OnlineBackup&#x27;, &#x27;OnlineSecurity&#x27;,\n",
              "                                  &#x27;PaymentMethod&#x27;, &#x27;StreamingMovies&#x27;,\n",
              "                                  &#x27;StreamingTV&#x27;, &#x27;TechSupport&#x27;]),\n",
              "                                (&#x27;standardizer&#x27;, StandardScaler(),\n",
              "                                 [&#x27;MonthlyCharges&#x27;, &#x27;tenure&#x27;, &#x27;TotalCharges&#x27;])])</pre></div></div></div><div class=\"sk-parallel\"><div class=\"sk-parallel-item\"><div class=\"sk-item\"><div class=\"sk-label-container\"><div class=\"sk-label sk-toggleable\"><input class=\"sk-toggleable__control sk-hidden--visually\" id=\"sk-estimator-id-774\" type=\"checkbox\" ><label for=\"sk-estimator-id-774\" class=\"sk-toggleable__label sk-toggleable__label-arrow\">boolean</label><div class=\"sk-toggleable__content\"><pre>[&#x27;gender&#x27;, &#x27;Partner&#x27;, &#x27;PaperlessBilling&#x27;, &#x27;PhoneService&#x27;, &#x27;Dependents&#x27;, &#x27;SeniorCitizen&#x27;]</pre></div></div></div><div class=\"sk-serial\"><div class=\"sk-item\"><div class=\"sk-estimator sk-toggleable\"><input class=\"sk-toggleable__control sk-hidden--visually\" id=\"sk-estimator-id-775\" type=\"checkbox\" ><label for=\"sk-estimator-id-775\" class=\"sk-toggleable__label sk-toggleable__label-arrow\">OneHotEncoder</label><div class=\"sk-toggleable__content\"><pre>OneHotEncoder(drop=&#x27;first&#x27;, handle_unknown=&#x27;ignore&#x27;)</pre></div></div></div></div></div></div><div class=\"sk-parallel-item\"><div class=\"sk-item\"><div class=\"sk-label-container\"><div class=\"sk-label sk-toggleable\"><input class=\"sk-toggleable__control sk-hidden--visually\" id=\"sk-estimator-id-776\" type=\"checkbox\" ><label for=\"sk-estimator-id-776\" class=\"sk-toggleable__label sk-toggleable__label-arrow\">one_hot_encoder</label><div class=\"sk-toggleable__content\"><pre>[&#x27;Contract&#x27;, &#x27;DeviceProtection&#x27;, &#x27;InternetService&#x27;, &#x27;MultipleLines&#x27;, &#x27;OnlineBackup&#x27;, &#x27;OnlineSecurity&#x27;, &#x27;PaymentMethod&#x27;, &#x27;StreamingMovies&#x27;, &#x27;StreamingTV&#x27;, &#x27;TechSupport&#x27;]</pre></div></div></div><div class=\"sk-serial\"><div class=\"sk-item\"><div class=\"sk-estimator sk-toggleable\"><input class=\"sk-toggleable__control sk-hidden--visually\" id=\"sk-estimator-id-777\" type=\"checkbox\" ><label for=\"sk-estimator-id-777\" class=\"sk-toggleable__label sk-toggleable__label-arrow\">OneHotEncoder</label><div class=\"sk-toggleable__content\"><pre>OneHotEncoder(handle_unknown=&#x27;infrequent_if_exist&#x27;)</pre></div></div></div></div></div></div><div class=\"sk-parallel-item\"><div class=\"sk-item\"><div class=\"sk-label-container\"><div class=\"sk-label sk-toggleable\"><input class=\"sk-toggleable__control sk-hidden--visually\" id=\"sk-estimator-id-778\" type=\"checkbox\" ><label for=\"sk-estimator-id-778\" class=\"sk-toggleable__label sk-toggleable__label-arrow\">standardizer</label><div class=\"sk-toggleable__content\"><pre>[&#x27;MonthlyCharges&#x27;, &#x27;tenure&#x27;, &#x27;TotalCharges&#x27;]</pre></div></div></div><div class=\"sk-serial\"><div class=\"sk-item\"><div class=\"sk-estimator sk-toggleable\"><input class=\"sk-toggleable__control sk-hidden--visually\" id=\"sk-estimator-id-779\" type=\"checkbox\" ><label for=\"sk-estimator-id-779\" class=\"sk-toggleable__label sk-toggleable__label-arrow\">StandardScaler</label><div class=\"sk-toggleable__content\"><pre>StandardScaler()</pre></div></div></div></div></div></div><div class=\"sk-parallel-item\"><div class=\"sk-item\"><div class=\"sk-label-container\"><div class=\"sk-label sk-toggleable\"><input class=\"sk-toggleable__control sk-hidden--visually\" id=\"sk-estimator-id-780\" type=\"checkbox\" ><label for=\"sk-estimator-id-780\" class=\"sk-toggleable__label sk-toggleable__label-arrow\">remainder</label><div class=\"sk-toggleable__content\"><pre></pre></div></div></div><div class=\"sk-serial\"><div class=\"sk-item\"><div class=\"sk-estimator sk-toggleable\"><input class=\"sk-toggleable__control sk-hidden--visually\" id=\"sk-estimator-id-781\" type=\"checkbox\" ><label for=\"sk-estimator-id-781\" class=\"sk-toggleable__label sk-toggleable__label-arrow\">passthrough</label><div class=\"sk-toggleable__content\"><pre>passthrough</pre></div></div></div></div></div></div></div></div></div></div>"
            ]
          },
          "metadata": {},
          "execution_count": 510
        }
      ]
    },
    {
      "cell_type": "markdown",
      "source": [
        "# Train-Validation-Test split"
      ],
      "metadata": {
        "id": "iNWNM_H_ktIF"
      }
    },
    {
      "cell_type": "code",
      "source": [
        "X=df.drop('Churn', axis=1)\n",
        "y=df['Churn']\n",
        "\n",
        "X_train, X_test, y_train, y_test= train_test_split(X,y, test_size=0.20, stratify=y, random_state=42)\n",
        "X_train, X_val, y_train, y_val= train_test_split(X_train, y_train, test_size=0.05, stratify=y_train, random_state=44)\n",
        "\n",
        "print(X_train.shape, y_train.shape)\n",
        "print(X_val.shape, y_val.shape)\n",
        "print(X_test.shape, y_test.shape)"
      ],
      "metadata": {
        "colab": {
          "base_uri": "https://localhost:8080/"
        },
        "id": "IonoMwBFhSjg",
        "outputId": "45efcf0e-bf94-4936-81a2-2fc01a16cc5e"
      },
      "execution_count": null,
      "outputs": [
        {
          "output_type": "stream",
          "name": "stdout",
          "text": [
            "(5343, 19) (5343,)\n",
            "(282, 19) (282,)\n",
            "(1407, 19) (1407,)\n"
          ]
        }
      ]
    },
    {
      "cell_type": "markdown",
      "source": [
        "# Train the classifier model"
      ],
      "metadata": {
        "id": "PGWx7PjDmJKY"
      }
    },
    {
      "cell_type": "markdown",
      "source": [
        "Create a separate pipeline to transform the validation dataset. This is used for early stopping."
      ],
      "metadata": {
        "id": "8JlKsV1LZJy2"
      }
    },
    {
      "cell_type": "code",
      "source": [
        "pipeline_val = Pipeline([\n",
        "    (\"preprocessor\", preprocessor)\n",
        "])\n",
        "\n",
        "pipeline_val.fit(X_train, y_train)"
      ],
      "metadata": {
        "colab": {
          "base_uri": "https://localhost:8080/",
          "height": 157
        },
        "id": "litm-oaAlPv9",
        "outputId": "d5e2ac79-97f4-4227-df7f-eb02c18d06c1"
      },
      "execution_count": null,
      "outputs": [
        {
          "output_type": "execute_result",
          "data": {
            "text/plain": [
              "Pipeline(steps=[('preprocessor',\n",
              "                 ColumnTransformer(remainder='passthrough', sparse_threshold=1,\n",
              "                                   transformers=[('boolean',\n",
              "                                                  OneHotEncoder(drop='first',\n",
              "                                                                handle_unknown='ignore'),\n",
              "                                                  ['gender', 'Partner',\n",
              "                                                   'PaperlessBilling',\n",
              "                                                   'PhoneService', 'Dependents',\n",
              "                                                   'SeniorCitizen']),\n",
              "                                                 ('one_hot_encoder',\n",
              "                                                  OneHotEncoder(handle_unknown='infrequent_if_exist'),\n",
              "                                                  ['Contract',\n",
              "                                                   'DeviceProtection',\n",
              "                                                   'InternetService',\n",
              "                                                   'MultipleLines',\n",
              "                                                   'OnlineBackup',\n",
              "                                                   'OnlineSecurity',\n",
              "                                                   'PaymentMethod',\n",
              "                                                   'StreamingMovies',\n",
              "                                                   'StreamingTV',\n",
              "                                                   'TechSupport']),\n",
              "                                                 ('standardizer',\n",
              "                                                  StandardScaler(),\n",
              "                                                  ['MonthlyCharges', 'tenure',\n",
              "                                                   'TotalCharges'])]))])"
            ],
            "text/html": [
              "<style>#sk-container-id-74 {color: black;background-color: white;}#sk-container-id-74 pre{padding: 0;}#sk-container-id-74 div.sk-toggleable {background-color: white;}#sk-container-id-74 label.sk-toggleable__label {cursor: pointer;display: block;width: 100%;margin-bottom: 0;padding: 0.3em;box-sizing: border-box;text-align: center;}#sk-container-id-74 label.sk-toggleable__label-arrow:before {content: \"▸\";float: left;margin-right: 0.25em;color: #696969;}#sk-container-id-74 label.sk-toggleable__label-arrow:hover:before {color: black;}#sk-container-id-74 div.sk-estimator:hover label.sk-toggleable__label-arrow:before {color: black;}#sk-container-id-74 div.sk-toggleable__content {max-height: 0;max-width: 0;overflow: hidden;text-align: left;background-color: #f0f8ff;}#sk-container-id-74 div.sk-toggleable__content pre {margin: 0.2em;color: black;border-radius: 0.25em;background-color: #f0f8ff;}#sk-container-id-74 input.sk-toggleable__control:checked~div.sk-toggleable__content {max-height: 200px;max-width: 100%;overflow: auto;}#sk-container-id-74 input.sk-toggleable__control:checked~label.sk-toggleable__label-arrow:before {content: \"▾\";}#sk-container-id-74 div.sk-estimator input.sk-toggleable__control:checked~label.sk-toggleable__label {background-color: #d4ebff;}#sk-container-id-74 div.sk-label input.sk-toggleable__control:checked~label.sk-toggleable__label {background-color: #d4ebff;}#sk-container-id-74 input.sk-hidden--visually {border: 0;clip: rect(1px 1px 1px 1px);clip: rect(1px, 1px, 1px, 1px);height: 1px;margin: -1px;overflow: hidden;padding: 0;position: absolute;width: 1px;}#sk-container-id-74 div.sk-estimator {font-family: monospace;background-color: #f0f8ff;border: 1px dotted black;border-radius: 0.25em;box-sizing: border-box;margin-bottom: 0.5em;}#sk-container-id-74 div.sk-estimator:hover {background-color: #d4ebff;}#sk-container-id-74 div.sk-parallel-item::after {content: \"\";width: 100%;border-bottom: 1px solid gray;flex-grow: 1;}#sk-container-id-74 div.sk-label:hover label.sk-toggleable__label {background-color: #d4ebff;}#sk-container-id-74 div.sk-serial::before {content: \"\";position: absolute;border-left: 1px solid gray;box-sizing: border-box;top: 0;bottom: 0;left: 50%;z-index: 0;}#sk-container-id-74 div.sk-serial {display: flex;flex-direction: column;align-items: center;background-color: white;padding-right: 0.2em;padding-left: 0.2em;position: relative;}#sk-container-id-74 div.sk-item {position: relative;z-index: 1;}#sk-container-id-74 div.sk-parallel {display: flex;align-items: stretch;justify-content: center;background-color: white;position: relative;}#sk-container-id-74 div.sk-item::before, #sk-container-id-74 div.sk-parallel-item::before {content: \"\";position: absolute;border-left: 1px solid gray;box-sizing: border-box;top: 0;bottom: 0;left: 50%;z-index: -1;}#sk-container-id-74 div.sk-parallel-item {display: flex;flex-direction: column;z-index: 1;position: relative;background-color: white;}#sk-container-id-74 div.sk-parallel-item:first-child::after {align-self: flex-end;width: 50%;}#sk-container-id-74 div.sk-parallel-item:last-child::after {align-self: flex-start;width: 50%;}#sk-container-id-74 div.sk-parallel-item:only-child::after {width: 0;}#sk-container-id-74 div.sk-dashed-wrapped {border: 1px dashed gray;margin: 0 0.4em 0.5em 0.4em;box-sizing: border-box;padding-bottom: 0.4em;background-color: white;}#sk-container-id-74 div.sk-label label {font-family: monospace;font-weight: bold;display: inline-block;line-height: 1.2em;}#sk-container-id-74 div.sk-label-container {text-align: center;}#sk-container-id-74 div.sk-container {/* jupyter's `normalize.less` sets `[hidden] { display: none; }` but bootstrap.min.css set `[hidden] { display: none !important; }` so we also need the `!important` here to be able to override the default hidden behavior on the sphinx rendered scikit-learn.org. See: https://github.com/scikit-learn/scikit-learn/issues/21755 */display: inline-block !important;position: relative;}#sk-container-id-74 div.sk-text-repr-fallback {display: none;}</style><div id=\"sk-container-id-74\" class=\"sk-top-container\"><div class=\"sk-text-repr-fallback\"><pre>Pipeline(steps=[(&#x27;preprocessor&#x27;,\n",
              "                 ColumnTransformer(remainder=&#x27;passthrough&#x27;, sparse_threshold=1,\n",
              "                                   transformers=[(&#x27;boolean&#x27;,\n",
              "                                                  OneHotEncoder(drop=&#x27;first&#x27;,\n",
              "                                                                handle_unknown=&#x27;ignore&#x27;),\n",
              "                                                  [&#x27;gender&#x27;, &#x27;Partner&#x27;,\n",
              "                                                   &#x27;PaperlessBilling&#x27;,\n",
              "                                                   &#x27;PhoneService&#x27;, &#x27;Dependents&#x27;,\n",
              "                                                   &#x27;SeniorCitizen&#x27;]),\n",
              "                                                 (&#x27;one_hot_encoder&#x27;,\n",
              "                                                  OneHotEncoder(handle_unknown=&#x27;infrequent_if_exist&#x27;),\n",
              "                                                  [&#x27;Contract&#x27;,\n",
              "                                                   &#x27;DeviceProtection&#x27;,\n",
              "                                                   &#x27;InternetService&#x27;,\n",
              "                                                   &#x27;MultipleLines&#x27;,\n",
              "                                                   &#x27;OnlineBackup&#x27;,\n",
              "                                                   &#x27;OnlineSecurity&#x27;,\n",
              "                                                   &#x27;PaymentMethod&#x27;,\n",
              "                                                   &#x27;StreamingMovies&#x27;,\n",
              "                                                   &#x27;StreamingTV&#x27;,\n",
              "                                                   &#x27;TechSupport&#x27;]),\n",
              "                                                 (&#x27;standardizer&#x27;,\n",
              "                                                  StandardScaler(),\n",
              "                                                  [&#x27;MonthlyCharges&#x27;, &#x27;tenure&#x27;,\n",
              "                                                   &#x27;TotalCharges&#x27;])]))])</pre><b>In a Jupyter environment, please rerun this cell to show the HTML representation or trust the notebook. <br />On GitHub, the HTML representation is unable to render, please try loading this page with nbviewer.org.</b></div><div class=\"sk-container\" hidden><div class=\"sk-item sk-dashed-wrapped\"><div class=\"sk-label-container\"><div class=\"sk-label sk-toggleable\"><input class=\"sk-toggleable__control sk-hidden--visually\" id=\"sk-estimator-id-804\" type=\"checkbox\" ><label for=\"sk-estimator-id-804\" class=\"sk-toggleable__label sk-toggleable__label-arrow\">Pipeline</label><div class=\"sk-toggleable__content\"><pre>Pipeline(steps=[(&#x27;preprocessor&#x27;,\n",
              "                 ColumnTransformer(remainder=&#x27;passthrough&#x27;, sparse_threshold=1,\n",
              "                                   transformers=[(&#x27;boolean&#x27;,\n",
              "                                                  OneHotEncoder(drop=&#x27;first&#x27;,\n",
              "                                                                handle_unknown=&#x27;ignore&#x27;),\n",
              "                                                  [&#x27;gender&#x27;, &#x27;Partner&#x27;,\n",
              "                                                   &#x27;PaperlessBilling&#x27;,\n",
              "                                                   &#x27;PhoneService&#x27;, &#x27;Dependents&#x27;,\n",
              "                                                   &#x27;SeniorCitizen&#x27;]),\n",
              "                                                 (&#x27;one_hot_encoder&#x27;,\n",
              "                                                  OneHotEncoder(handle_unknown=&#x27;infrequent_if_exist&#x27;),\n",
              "                                                  [&#x27;Contract&#x27;,\n",
              "                                                   &#x27;DeviceProtection&#x27;,\n",
              "                                                   &#x27;InternetService&#x27;,\n",
              "                                                   &#x27;MultipleLines&#x27;,\n",
              "                                                   &#x27;OnlineBackup&#x27;,\n",
              "                                                   &#x27;OnlineSecurity&#x27;,\n",
              "                                                   &#x27;PaymentMethod&#x27;,\n",
              "                                                   &#x27;StreamingMovies&#x27;,\n",
              "                                                   &#x27;StreamingTV&#x27;,\n",
              "                                                   &#x27;TechSupport&#x27;]),\n",
              "                                                 (&#x27;standardizer&#x27;,\n",
              "                                                  StandardScaler(),\n",
              "                                                  [&#x27;MonthlyCharges&#x27;, &#x27;tenure&#x27;,\n",
              "                                                   &#x27;TotalCharges&#x27;])]))])</pre></div></div></div><div class=\"sk-serial\"><div class=\"sk-item sk-dashed-wrapped\"><div class=\"sk-label-container\"><div class=\"sk-label sk-toggleable\"><input class=\"sk-toggleable__control sk-hidden--visually\" id=\"sk-estimator-id-805\" type=\"checkbox\" ><label for=\"sk-estimator-id-805\" class=\"sk-toggleable__label sk-toggleable__label-arrow\">preprocessor: ColumnTransformer</label><div class=\"sk-toggleable__content\"><pre>ColumnTransformer(remainder=&#x27;passthrough&#x27;, sparse_threshold=1,\n",
              "                  transformers=[(&#x27;boolean&#x27;,\n",
              "                                 OneHotEncoder(drop=&#x27;first&#x27;,\n",
              "                                               handle_unknown=&#x27;ignore&#x27;),\n",
              "                                 [&#x27;gender&#x27;, &#x27;Partner&#x27;, &#x27;PaperlessBilling&#x27;,\n",
              "                                  &#x27;PhoneService&#x27;, &#x27;Dependents&#x27;,\n",
              "                                  &#x27;SeniorCitizen&#x27;]),\n",
              "                                (&#x27;one_hot_encoder&#x27;,\n",
              "                                 OneHotEncoder(handle_unknown=&#x27;infrequent_if_exist&#x27;),\n",
              "                                 [&#x27;Contract&#x27;, &#x27;DeviceProtection&#x27;,\n",
              "                                  &#x27;InternetService&#x27;, &#x27;MultipleLines&#x27;,\n",
              "                                  &#x27;OnlineBackup&#x27;, &#x27;OnlineSecurity&#x27;,\n",
              "                                  &#x27;PaymentMethod&#x27;, &#x27;StreamingMovies&#x27;,\n",
              "                                  &#x27;StreamingTV&#x27;, &#x27;TechSupport&#x27;]),\n",
              "                                (&#x27;standardizer&#x27;, StandardScaler(),\n",
              "                                 [&#x27;MonthlyCharges&#x27;, &#x27;tenure&#x27;, &#x27;TotalCharges&#x27;])])</pre></div></div></div><div class=\"sk-parallel\"><div class=\"sk-parallel-item\"><div class=\"sk-item\"><div class=\"sk-label-container\"><div class=\"sk-label sk-toggleable\"><input class=\"sk-toggleable__control sk-hidden--visually\" id=\"sk-estimator-id-806\" type=\"checkbox\" ><label for=\"sk-estimator-id-806\" class=\"sk-toggleable__label sk-toggleable__label-arrow\">boolean</label><div class=\"sk-toggleable__content\"><pre>[&#x27;gender&#x27;, &#x27;Partner&#x27;, &#x27;PaperlessBilling&#x27;, &#x27;PhoneService&#x27;, &#x27;Dependents&#x27;, &#x27;SeniorCitizen&#x27;]</pre></div></div></div><div class=\"sk-serial\"><div class=\"sk-item\"><div class=\"sk-estimator sk-toggleable\"><input class=\"sk-toggleable__control sk-hidden--visually\" id=\"sk-estimator-id-807\" type=\"checkbox\" ><label for=\"sk-estimator-id-807\" class=\"sk-toggleable__label sk-toggleable__label-arrow\">OneHotEncoder</label><div class=\"sk-toggleable__content\"><pre>OneHotEncoder(drop=&#x27;first&#x27;, handle_unknown=&#x27;ignore&#x27;)</pre></div></div></div></div></div></div><div class=\"sk-parallel-item\"><div class=\"sk-item\"><div class=\"sk-label-container\"><div class=\"sk-label sk-toggleable\"><input class=\"sk-toggleable__control sk-hidden--visually\" id=\"sk-estimator-id-808\" type=\"checkbox\" ><label for=\"sk-estimator-id-808\" class=\"sk-toggleable__label sk-toggleable__label-arrow\">one_hot_encoder</label><div class=\"sk-toggleable__content\"><pre>[&#x27;Contract&#x27;, &#x27;DeviceProtection&#x27;, &#x27;InternetService&#x27;, &#x27;MultipleLines&#x27;, &#x27;OnlineBackup&#x27;, &#x27;OnlineSecurity&#x27;, &#x27;PaymentMethod&#x27;, &#x27;StreamingMovies&#x27;, &#x27;StreamingTV&#x27;, &#x27;TechSupport&#x27;]</pre></div></div></div><div class=\"sk-serial\"><div class=\"sk-item\"><div class=\"sk-estimator sk-toggleable\"><input class=\"sk-toggleable__control sk-hidden--visually\" id=\"sk-estimator-id-809\" type=\"checkbox\" ><label for=\"sk-estimator-id-809\" class=\"sk-toggleable__label sk-toggleable__label-arrow\">OneHotEncoder</label><div class=\"sk-toggleable__content\"><pre>OneHotEncoder(handle_unknown=&#x27;infrequent_if_exist&#x27;)</pre></div></div></div></div></div></div><div class=\"sk-parallel-item\"><div class=\"sk-item\"><div class=\"sk-label-container\"><div class=\"sk-label sk-toggleable\"><input class=\"sk-toggleable__control sk-hidden--visually\" id=\"sk-estimator-id-810\" type=\"checkbox\" ><label for=\"sk-estimator-id-810\" class=\"sk-toggleable__label sk-toggleable__label-arrow\">standardizer</label><div class=\"sk-toggleable__content\"><pre>[&#x27;MonthlyCharges&#x27;, &#x27;tenure&#x27;, &#x27;TotalCharges&#x27;]</pre></div></div></div><div class=\"sk-serial\"><div class=\"sk-item\"><div class=\"sk-estimator sk-toggleable\"><input class=\"sk-toggleable__control sk-hidden--visually\" id=\"sk-estimator-id-811\" type=\"checkbox\" ><label for=\"sk-estimator-id-811\" class=\"sk-toggleable__label sk-toggleable__label-arrow\">StandardScaler</label><div class=\"sk-toggleable__content\"><pre>StandardScaler()</pre></div></div></div></div></div></div><div class=\"sk-parallel-item\"><div class=\"sk-item\"><div class=\"sk-label-container\"><div class=\"sk-label sk-toggleable\"><input class=\"sk-toggleable__control sk-hidden--visually\" id=\"sk-estimator-id-812\" type=\"checkbox\" ><label for=\"sk-estimator-id-812\" class=\"sk-toggleable__label sk-toggleable__label-arrow\">remainder</label><div class=\"sk-toggleable__content\"><pre>[]</pre></div></div></div><div class=\"sk-serial\"><div class=\"sk-item\"><div class=\"sk-estimator sk-toggleable\"><input class=\"sk-toggleable__control sk-hidden--visually\" id=\"sk-estimator-id-813\" type=\"checkbox\" ><label for=\"sk-estimator-id-813\" class=\"sk-toggleable__label sk-toggleable__label-arrow\">passthrough</label><div class=\"sk-toggleable__content\"><pre>passthrough</pre></div></div></div></div></div></div></div></div></div></div></div></div>"
            ]
          },
          "metadata": {},
          "execution_count": 526
        }
      ]
    },
    {
      "cell_type": "code",
      "source": [
        "#Validation set processed\n",
        "X_val_processed = pipeline_val.transform(X_val)\n",
        "X_val_processed.shape"
      ],
      "metadata": {
        "colab": {
          "base_uri": "https://localhost:8080/"
        },
        "id": "4QwxnhSjljS1",
        "outputId": "2c9aadce-a7e7-4433-fcab-cdaf0ea667e7"
      },
      "execution_count": null,
      "outputs": [
        {
          "output_type": "execute_result",
          "data": {
            "text/plain": [
              "(282, 40)"
            ]
          },
          "metadata": {},
          "execution_count": 514
        }
      ]
    },
    {
      "cell_type": "markdown",
      "source": [
        "## Define objective function"
      ],
      "metadata": {
        "id": "rZl4L2UBbqyz"
      }
    },
    {
      "cell_type": "code",
      "source": [
        "def objective(params):\n",
        "  lgbmc_classifier = LGBMClassifier()\n",
        "\n",
        "  #Since there is class imbalance in the dataset, apply oversampling using SMOTE in the pipeline\n",
        "  smt = SMOTE(random_state=42, sampling_strategy=1)\n",
        "\n",
        "  #Model Pipeline\n",
        "  model = imbPipeline(steps=[('preprocessor', preprocessor),\n",
        "                            ('smote', smt),\n",
        "                            ('classifier', lgbmc_classifier)\n",
        "                          ])  \n",
        "\n",
        "  #Model Fit\n",
        "  model.fit(X_train, y_train,classifier__callbacks=[lightgbm.early_stopping(5), lightgbm.log_evaluation(0)], classifier__eval_set=[(X_val_processed,y_val)])\n",
        "\n",
        "  #Predictions\n",
        "  y_pred = model.predict(X_test)\n",
        "\n",
        "  #Mapping labels to binary values\n",
        "  y_test_mapped = y_test.map({'Yes': 1, 'No': 0})\n",
        "  map_func = np.vectorize(lambda x: 1 if x == 'Yes' else 0)\n",
        "  y_pred_mapped= map_func(y_pred)\n",
        "\n",
        "  #Loss\n",
        "  loss = log_loss(y_test_mapped, y_pred_mapped)\n",
        "  \n",
        "  return {'loss': loss, 'status': STATUS_OK,'model':model}"
      ],
      "metadata": {
        "id": "uBd3jHaUxxXd"
      },
      "execution_count": null,
      "outputs": []
    },
    {
      "cell_type": "markdown",
      "source": [
        "## Hyperparameter Tuning"
      ],
      "metadata": {
        "id": "OWMCqfN8Ym2t"
      }
    },
    {
      "cell_type": "code",
      "source": [
        "space = {\n",
        "    'max_depth': hp.choice('max_depth', range(1, 20)),\n",
        "    'learning_rate': hp.loguniform('learning_rate', -5.0, 0),\n",
        "    'n_estimators': hp.choice('n_estimators', range(1, 1000)),\n",
        "    'num_leaves': hp.choice('num_leaves', range(2, 100)),\n",
        "}"
      ],
      "metadata": {
        "id": "E7u9Ru_hGbuz"
      },
      "execution_count": null,
      "outputs": []
    },
    {
      "cell_type": "code",
      "source": [
        "#Seaarching the hyperparameter space using hyperopt \n",
        "\n",
        "trials= Trials()\n",
        "fmin(objective,\n",
        "     space=space,\n",
        "     algo=tpe.suggest,\n",
        "     max_evals=10,  # could be increased if widening the hyperparameter search space.\n",
        "     trials=trials)"
      ],
      "metadata": {
        "colab": {
          "base_uri": "https://localhost:8080/"
        },
        "id": "IoKsEksxHmy-",
        "outputId": "07117594-7d88-44fb-c590-bf10fbb75e56"
      },
      "execution_count": null,
      "outputs": [
        {
          "output_type": "stream",
          "name": "stdout",
          "text": [
            "Training until validation scores don't improve for 5 rounds\n",
            "Early stopping, best iteration is:\n",
            "[44]\tvalid_0's binary_logloss: 0.447059\n",
            "Training until validation scores don't improve for 5 rounds\n",
            "Early stopping, best iteration is:\n",
            "[44]\tvalid_0's binary_logloss: 0.447059\n",
            "Training until validation scores don't improve for 5 rounds\n",
            "Early stopping, best iteration is:\n",
            "[44]\tvalid_0's binary_logloss: 0.447059\n",
            "Training until validation scores don't improve for 5 rounds\n",
            "Early stopping, best iteration is:\n",
            "[44]\tvalid_0's binary_logloss: 0.447059\n",
            "Training until validation scores don't improve for 5 rounds\n",
            "Early stopping, best iteration is:\n",
            "[44]\tvalid_0's binary_logloss: 0.447059\n",
            "Training until validation scores don't improve for 5 rounds\n",
            "Early stopping, best iteration is:\n",
            "[44]\tvalid_0's binary_logloss: 0.447059\n",
            "Training until validation scores don't improve for 5 rounds\n",
            "Early stopping, best iteration is:\n",
            "[44]\tvalid_0's binary_logloss: 0.447059\n",
            "Training until validation scores don't improve for 5 rounds\n",
            "Early stopping, best iteration is:\n",
            "[44]\tvalid_0's binary_logloss: 0.447059\n",
            "Training until validation scores don't improve for 5 rounds\n",
            "Early stopping, best iteration is:\n",
            "[44]\tvalid_0's binary_logloss: 0.447059\n",
            "Training until validation scores don't improve for 5 rounds\n",
            "Early stopping, best iteration is:\n",
            "[44]\tvalid_0's binary_logloss: 0.447059\n",
            "100%|██████████| 10/10 [00:29<00:00,  2.95s/trial, best loss: 8.35126581723681]\n"
          ]
        },
        {
          "output_type": "execute_result",
          "data": {
            "text/plain": [
              "{'learning_rate': 0.07150538582422764,\n",
              " 'max_depth': 18,\n",
              " 'n_estimators': 793,\n",
              " 'num_leaves': 66}"
            ]
          },
          "metadata": {},
          "execution_count": 517
        }
      ]
    },
    {
      "cell_type": "code",
      "source": [
        "best_result = trials.best_trial[\"result\"]\n",
        "model = best_result[\"model\"]\n",
        "\n",
        "model"
      ],
      "metadata": {
        "colab": {
          "base_uri": "https://localhost:8080/",
          "height": 227
        },
        "id": "oSDujyKV37aM",
        "outputId": "7235beef-a47b-4644-d0bb-663d5469f4cb"
      },
      "execution_count": null,
      "outputs": [
        {
          "output_type": "execute_result",
          "data": {
            "text/plain": [
              "Pipeline(steps=[('preprocessor',\n",
              "                 ColumnTransformer(remainder='passthrough', sparse_threshold=1,\n",
              "                                   transformers=[('boolean',\n",
              "                                                  OneHotEncoder(drop='first',\n",
              "                                                                handle_unknown='ignore'),\n",
              "                                                  ['gender', 'Partner',\n",
              "                                                   'PaperlessBilling',\n",
              "                                                   'PhoneService', 'Dependents',\n",
              "                                                   'SeniorCitizen']),\n",
              "                                                 ('one_hot_encoder',\n",
              "                                                  OneHotEncoder(handle_unknown='infrequent_if_exist'),\n",
              "                                                  ['Contract',\n",
              "                                                   'DeviceProtection',\n",
              "                                                   'InternetService',\n",
              "                                                   'MultipleLines',\n",
              "                                                   'OnlineBackup',\n",
              "                                                   'OnlineSecurity',\n",
              "                                                   'PaymentMethod',\n",
              "                                                   'StreamingMovies',\n",
              "                                                   'StreamingTV',\n",
              "                                                   'TechSupport']),\n",
              "                                                 ('standardizer',\n",
              "                                                  StandardScaler(),\n",
              "                                                  ['MonthlyCharges', 'tenure',\n",
              "                                                   'TotalCharges'])])),\n",
              "                ('smote', SMOTE(random_state=42, sampling_strategy=1)),\n",
              "                ('classifier', LGBMClassifier())])"
            ],
            "text/html": [
              "<style>#sk-container-id-73 {color: black;background-color: white;}#sk-container-id-73 pre{padding: 0;}#sk-container-id-73 div.sk-toggleable {background-color: white;}#sk-container-id-73 label.sk-toggleable__label {cursor: pointer;display: block;width: 100%;margin-bottom: 0;padding: 0.3em;box-sizing: border-box;text-align: center;}#sk-container-id-73 label.sk-toggleable__label-arrow:before {content: \"▸\";float: left;margin-right: 0.25em;color: #696969;}#sk-container-id-73 label.sk-toggleable__label-arrow:hover:before {color: black;}#sk-container-id-73 div.sk-estimator:hover label.sk-toggleable__label-arrow:before {color: black;}#sk-container-id-73 div.sk-toggleable__content {max-height: 0;max-width: 0;overflow: hidden;text-align: left;background-color: #f0f8ff;}#sk-container-id-73 div.sk-toggleable__content pre {margin: 0.2em;color: black;border-radius: 0.25em;background-color: #f0f8ff;}#sk-container-id-73 input.sk-toggleable__control:checked~div.sk-toggleable__content {max-height: 200px;max-width: 100%;overflow: auto;}#sk-container-id-73 input.sk-toggleable__control:checked~label.sk-toggleable__label-arrow:before {content: \"▾\";}#sk-container-id-73 div.sk-estimator input.sk-toggleable__control:checked~label.sk-toggleable__label {background-color: #d4ebff;}#sk-container-id-73 div.sk-label input.sk-toggleable__control:checked~label.sk-toggleable__label {background-color: #d4ebff;}#sk-container-id-73 input.sk-hidden--visually {border: 0;clip: rect(1px 1px 1px 1px);clip: rect(1px, 1px, 1px, 1px);height: 1px;margin: -1px;overflow: hidden;padding: 0;position: absolute;width: 1px;}#sk-container-id-73 div.sk-estimator {font-family: monospace;background-color: #f0f8ff;border: 1px dotted black;border-radius: 0.25em;box-sizing: border-box;margin-bottom: 0.5em;}#sk-container-id-73 div.sk-estimator:hover {background-color: #d4ebff;}#sk-container-id-73 div.sk-parallel-item::after {content: \"\";width: 100%;border-bottom: 1px solid gray;flex-grow: 1;}#sk-container-id-73 div.sk-label:hover label.sk-toggleable__label {background-color: #d4ebff;}#sk-container-id-73 div.sk-serial::before {content: \"\";position: absolute;border-left: 1px solid gray;box-sizing: border-box;top: 0;bottom: 0;left: 50%;z-index: 0;}#sk-container-id-73 div.sk-serial {display: flex;flex-direction: column;align-items: center;background-color: white;padding-right: 0.2em;padding-left: 0.2em;position: relative;}#sk-container-id-73 div.sk-item {position: relative;z-index: 1;}#sk-container-id-73 div.sk-parallel {display: flex;align-items: stretch;justify-content: center;background-color: white;position: relative;}#sk-container-id-73 div.sk-item::before, #sk-container-id-73 div.sk-parallel-item::before {content: \"\";position: absolute;border-left: 1px solid gray;box-sizing: border-box;top: 0;bottom: 0;left: 50%;z-index: -1;}#sk-container-id-73 div.sk-parallel-item {display: flex;flex-direction: column;z-index: 1;position: relative;background-color: white;}#sk-container-id-73 div.sk-parallel-item:first-child::after {align-self: flex-end;width: 50%;}#sk-container-id-73 div.sk-parallel-item:last-child::after {align-self: flex-start;width: 50%;}#sk-container-id-73 div.sk-parallel-item:only-child::after {width: 0;}#sk-container-id-73 div.sk-dashed-wrapped {border: 1px dashed gray;margin: 0 0.4em 0.5em 0.4em;box-sizing: border-box;padding-bottom: 0.4em;background-color: white;}#sk-container-id-73 div.sk-label label {font-family: monospace;font-weight: bold;display: inline-block;line-height: 1.2em;}#sk-container-id-73 div.sk-label-container {text-align: center;}#sk-container-id-73 div.sk-container {/* jupyter's `normalize.less` sets `[hidden] { display: none; }` but bootstrap.min.css set `[hidden] { display: none !important; }` so we also need the `!important` here to be able to override the default hidden behavior on the sphinx rendered scikit-learn.org. See: https://github.com/scikit-learn/scikit-learn/issues/21755 */display: inline-block !important;position: relative;}#sk-container-id-73 div.sk-text-repr-fallback {display: none;}</style><div id=\"sk-container-id-73\" class=\"sk-top-container\"><div class=\"sk-text-repr-fallback\"><pre>Pipeline(steps=[(&#x27;preprocessor&#x27;,\n",
              "                 ColumnTransformer(remainder=&#x27;passthrough&#x27;, sparse_threshold=1,\n",
              "                                   transformers=[(&#x27;boolean&#x27;,\n",
              "                                                  OneHotEncoder(drop=&#x27;first&#x27;,\n",
              "                                                                handle_unknown=&#x27;ignore&#x27;),\n",
              "                                                  [&#x27;gender&#x27;, &#x27;Partner&#x27;,\n",
              "                                                   &#x27;PaperlessBilling&#x27;,\n",
              "                                                   &#x27;PhoneService&#x27;, &#x27;Dependents&#x27;,\n",
              "                                                   &#x27;SeniorCitizen&#x27;]),\n",
              "                                                 (&#x27;one_hot_encoder&#x27;,\n",
              "                                                  OneHotEncoder(handle_unknown=&#x27;infrequent_if_exist&#x27;),\n",
              "                                                  [&#x27;Contract&#x27;,\n",
              "                                                   &#x27;DeviceProtection&#x27;,\n",
              "                                                   &#x27;InternetService&#x27;,\n",
              "                                                   &#x27;MultipleLines&#x27;,\n",
              "                                                   &#x27;OnlineBackup&#x27;,\n",
              "                                                   &#x27;OnlineSecurity&#x27;,\n",
              "                                                   &#x27;PaymentMethod&#x27;,\n",
              "                                                   &#x27;StreamingMovies&#x27;,\n",
              "                                                   &#x27;StreamingTV&#x27;,\n",
              "                                                   &#x27;TechSupport&#x27;]),\n",
              "                                                 (&#x27;standardizer&#x27;,\n",
              "                                                  StandardScaler(),\n",
              "                                                  [&#x27;MonthlyCharges&#x27;, &#x27;tenure&#x27;,\n",
              "                                                   &#x27;TotalCharges&#x27;])])),\n",
              "                (&#x27;smote&#x27;, SMOTE(random_state=42, sampling_strategy=1)),\n",
              "                (&#x27;classifier&#x27;, LGBMClassifier())])</pre><b>In a Jupyter environment, please rerun this cell to show the HTML representation or trust the notebook. <br />On GitHub, the HTML representation is unable to render, please try loading this page with nbviewer.org.</b></div><div class=\"sk-container\" hidden><div class=\"sk-item sk-dashed-wrapped\"><div class=\"sk-label-container\"><div class=\"sk-label sk-toggleable\"><input class=\"sk-toggleable__control sk-hidden--visually\" id=\"sk-estimator-id-792\" type=\"checkbox\" ><label for=\"sk-estimator-id-792\" class=\"sk-toggleable__label sk-toggleable__label-arrow\">Pipeline</label><div class=\"sk-toggleable__content\"><pre>Pipeline(steps=[(&#x27;preprocessor&#x27;,\n",
              "                 ColumnTransformer(remainder=&#x27;passthrough&#x27;, sparse_threshold=1,\n",
              "                                   transformers=[(&#x27;boolean&#x27;,\n",
              "                                                  OneHotEncoder(drop=&#x27;first&#x27;,\n",
              "                                                                handle_unknown=&#x27;ignore&#x27;),\n",
              "                                                  [&#x27;gender&#x27;, &#x27;Partner&#x27;,\n",
              "                                                   &#x27;PaperlessBilling&#x27;,\n",
              "                                                   &#x27;PhoneService&#x27;, &#x27;Dependents&#x27;,\n",
              "                                                   &#x27;SeniorCitizen&#x27;]),\n",
              "                                                 (&#x27;one_hot_encoder&#x27;,\n",
              "                                                  OneHotEncoder(handle_unknown=&#x27;infrequent_if_exist&#x27;),\n",
              "                                                  [&#x27;Contract&#x27;,\n",
              "                                                   &#x27;DeviceProtection&#x27;,\n",
              "                                                   &#x27;InternetService&#x27;,\n",
              "                                                   &#x27;MultipleLines&#x27;,\n",
              "                                                   &#x27;OnlineBackup&#x27;,\n",
              "                                                   &#x27;OnlineSecurity&#x27;,\n",
              "                                                   &#x27;PaymentMethod&#x27;,\n",
              "                                                   &#x27;StreamingMovies&#x27;,\n",
              "                                                   &#x27;StreamingTV&#x27;,\n",
              "                                                   &#x27;TechSupport&#x27;]),\n",
              "                                                 (&#x27;standardizer&#x27;,\n",
              "                                                  StandardScaler(),\n",
              "                                                  [&#x27;MonthlyCharges&#x27;, &#x27;tenure&#x27;,\n",
              "                                                   &#x27;TotalCharges&#x27;])])),\n",
              "                (&#x27;smote&#x27;, SMOTE(random_state=42, sampling_strategy=1)),\n",
              "                (&#x27;classifier&#x27;, LGBMClassifier())])</pre></div></div></div><div class=\"sk-serial\"><div class=\"sk-item sk-dashed-wrapped\"><div class=\"sk-label-container\"><div class=\"sk-label sk-toggleable\"><input class=\"sk-toggleable__control sk-hidden--visually\" id=\"sk-estimator-id-793\" type=\"checkbox\" ><label for=\"sk-estimator-id-793\" class=\"sk-toggleable__label sk-toggleable__label-arrow\">preprocessor: ColumnTransformer</label><div class=\"sk-toggleable__content\"><pre>ColumnTransformer(remainder=&#x27;passthrough&#x27;, sparse_threshold=1,\n",
              "                  transformers=[(&#x27;boolean&#x27;,\n",
              "                                 OneHotEncoder(drop=&#x27;first&#x27;,\n",
              "                                               handle_unknown=&#x27;ignore&#x27;),\n",
              "                                 [&#x27;gender&#x27;, &#x27;Partner&#x27;, &#x27;PaperlessBilling&#x27;,\n",
              "                                  &#x27;PhoneService&#x27;, &#x27;Dependents&#x27;,\n",
              "                                  &#x27;SeniorCitizen&#x27;]),\n",
              "                                (&#x27;one_hot_encoder&#x27;,\n",
              "                                 OneHotEncoder(handle_unknown=&#x27;infrequent_if_exist&#x27;),\n",
              "                                 [&#x27;Contract&#x27;, &#x27;DeviceProtection&#x27;,\n",
              "                                  &#x27;InternetService&#x27;, &#x27;MultipleLines&#x27;,\n",
              "                                  &#x27;OnlineBackup&#x27;, &#x27;OnlineSecurity&#x27;,\n",
              "                                  &#x27;PaymentMethod&#x27;, &#x27;StreamingMovies&#x27;,\n",
              "                                  &#x27;StreamingTV&#x27;, &#x27;TechSupport&#x27;]),\n",
              "                                (&#x27;standardizer&#x27;, StandardScaler(),\n",
              "                                 [&#x27;MonthlyCharges&#x27;, &#x27;tenure&#x27;, &#x27;TotalCharges&#x27;])])</pre></div></div></div><div class=\"sk-parallel\"><div class=\"sk-parallel-item\"><div class=\"sk-item\"><div class=\"sk-label-container\"><div class=\"sk-label sk-toggleable\"><input class=\"sk-toggleable__control sk-hidden--visually\" id=\"sk-estimator-id-794\" type=\"checkbox\" ><label for=\"sk-estimator-id-794\" class=\"sk-toggleable__label sk-toggleable__label-arrow\">boolean</label><div class=\"sk-toggleable__content\"><pre>[&#x27;gender&#x27;, &#x27;Partner&#x27;, &#x27;PaperlessBilling&#x27;, &#x27;PhoneService&#x27;, &#x27;Dependents&#x27;, &#x27;SeniorCitizen&#x27;]</pre></div></div></div><div class=\"sk-serial\"><div class=\"sk-item\"><div class=\"sk-estimator sk-toggleable\"><input class=\"sk-toggleable__control sk-hidden--visually\" id=\"sk-estimator-id-795\" type=\"checkbox\" ><label for=\"sk-estimator-id-795\" class=\"sk-toggleable__label sk-toggleable__label-arrow\">OneHotEncoder</label><div class=\"sk-toggleable__content\"><pre>OneHotEncoder(drop=&#x27;first&#x27;, handle_unknown=&#x27;ignore&#x27;)</pre></div></div></div></div></div></div><div class=\"sk-parallel-item\"><div class=\"sk-item\"><div class=\"sk-label-container\"><div class=\"sk-label sk-toggleable\"><input class=\"sk-toggleable__control sk-hidden--visually\" id=\"sk-estimator-id-796\" type=\"checkbox\" ><label for=\"sk-estimator-id-796\" class=\"sk-toggleable__label sk-toggleable__label-arrow\">one_hot_encoder</label><div class=\"sk-toggleable__content\"><pre>[&#x27;Contract&#x27;, &#x27;DeviceProtection&#x27;, &#x27;InternetService&#x27;, &#x27;MultipleLines&#x27;, &#x27;OnlineBackup&#x27;, &#x27;OnlineSecurity&#x27;, &#x27;PaymentMethod&#x27;, &#x27;StreamingMovies&#x27;, &#x27;StreamingTV&#x27;, &#x27;TechSupport&#x27;]</pre></div></div></div><div class=\"sk-serial\"><div class=\"sk-item\"><div class=\"sk-estimator sk-toggleable\"><input class=\"sk-toggleable__control sk-hidden--visually\" id=\"sk-estimator-id-797\" type=\"checkbox\" ><label for=\"sk-estimator-id-797\" class=\"sk-toggleable__label sk-toggleable__label-arrow\">OneHotEncoder</label><div class=\"sk-toggleable__content\"><pre>OneHotEncoder(handle_unknown=&#x27;infrequent_if_exist&#x27;)</pre></div></div></div></div></div></div><div class=\"sk-parallel-item\"><div class=\"sk-item\"><div class=\"sk-label-container\"><div class=\"sk-label sk-toggleable\"><input class=\"sk-toggleable__control sk-hidden--visually\" id=\"sk-estimator-id-798\" type=\"checkbox\" ><label for=\"sk-estimator-id-798\" class=\"sk-toggleable__label sk-toggleable__label-arrow\">standardizer</label><div class=\"sk-toggleable__content\"><pre>[&#x27;MonthlyCharges&#x27;, &#x27;tenure&#x27;, &#x27;TotalCharges&#x27;]</pre></div></div></div><div class=\"sk-serial\"><div class=\"sk-item\"><div class=\"sk-estimator sk-toggleable\"><input class=\"sk-toggleable__control sk-hidden--visually\" id=\"sk-estimator-id-799\" type=\"checkbox\" ><label for=\"sk-estimator-id-799\" class=\"sk-toggleable__label sk-toggleable__label-arrow\">StandardScaler</label><div class=\"sk-toggleable__content\"><pre>StandardScaler()</pre></div></div></div></div></div></div><div class=\"sk-parallel-item\"><div class=\"sk-item\"><div class=\"sk-label-container\"><div class=\"sk-label sk-toggleable\"><input class=\"sk-toggleable__control sk-hidden--visually\" id=\"sk-estimator-id-800\" type=\"checkbox\" ><label for=\"sk-estimator-id-800\" class=\"sk-toggleable__label sk-toggleable__label-arrow\">remainder</label><div class=\"sk-toggleable__content\"><pre>[]</pre></div></div></div><div class=\"sk-serial\"><div class=\"sk-item\"><div class=\"sk-estimator sk-toggleable\"><input class=\"sk-toggleable__control sk-hidden--visually\" id=\"sk-estimator-id-801\" type=\"checkbox\" ><label for=\"sk-estimator-id-801\" class=\"sk-toggleable__label sk-toggleable__label-arrow\">passthrough</label><div class=\"sk-toggleable__content\"><pre>passthrough</pre></div></div></div></div></div></div></div></div><div class=\"sk-item\"><div class=\"sk-estimator sk-toggleable\"><input class=\"sk-toggleable__control sk-hidden--visually\" id=\"sk-estimator-id-802\" type=\"checkbox\" ><label for=\"sk-estimator-id-802\" class=\"sk-toggleable__label sk-toggleable__label-arrow\">SMOTE</label><div class=\"sk-toggleable__content\"><pre>SMOTE(random_state=42, sampling_strategy=1)</pre></div></div></div><div class=\"sk-item\"><div class=\"sk-estimator sk-toggleable\"><input class=\"sk-toggleable__control sk-hidden--visually\" id=\"sk-estimator-id-803\" type=\"checkbox\" ><label for=\"sk-estimator-id-803\" class=\"sk-toggleable__label sk-toggleable__label-arrow\">LGBMClassifier</label><div class=\"sk-toggleable__content\"><pre>LGBMClassifier()</pre></div></div></div></div></div></div></div>"
            ]
          },
          "metadata": {},
          "execution_count": 518
        }
      ]
    },
    {
      "cell_type": "markdown",
      "source": [
        "## Feature Importance"
      ],
      "metadata": {
        "id": "5Iai-GvD6wBR"
      }
    },
    {
      "cell_type": "code",
      "source": [
        "# Run SHAP plots if the below flag is set to True\n",
        "shap_enabled = True\n",
        "if shap_enabled:\n",
        "    # Sample background data for SHAP Explainer. Increase the sample size to reduce variance.\n",
        "    train_sample = X_train.sample(n=min(100, X_train.shape[0]), random_state=65846607)\n",
        "\n",
        "    # Sample some rows from the validation set to explain. Increase the sample size for more thorough results.\n",
        "    example = X_val.sample(n=min(100, X_val.shape[0]), random_state=65846607)\n",
        "\n",
        "    # Use Kernel SHAP to explain feature importance on the sampled rows from the validation set.\n",
        "    predict = lambda x: model.predict_proba(pd.DataFrame(x, columns=X_train.columns))\n",
        "    explainer = KernelExplainer(predict, train_sample, link=\"logit\")\n",
        "    shap_values = explainer.shap_values(example, l1_reg=False, nsamples=500)\n",
        "    summary_plot(shap_values, example, class_names=model.classes_)"
      ],
      "metadata": {
        "colab": {
          "base_uri": "https://localhost:8080/",
          "height": 949,
          "referenced_widgets": [
            "aaac49479edb49559fee0dab6629bcf3",
            "82ae32eeaf244912a41f07a7750d06ff",
            "b1a91dcf3ef945ccaebcab8f75caf6e0",
            "ed36ec8c53f641beafc267ed42e5b3b0",
            "83fc876127c24fc3bf1f0c2a3bd981d7",
            "f1aca243ca1b4c2a9a2c48e5655ffd59",
            "18f1eec0bd484473bf04c0bfb837c791",
            "abc4859c1f1a48e2b6a127405ef51519",
            "b84815a974f44328ab2bc1d2c9cb4173",
            "c340828631bf4934a15d111ed69213c5",
            "be9d12dd7dde461bb5b8ec4400e7d73d"
          ]
        },
        "id": "MUvoKKhO4kgU",
        "outputId": "21c28324-14cd-43af-f2c1-acd47080001e"
      },
      "execution_count": null,
      "outputs": [
        {
          "output_type": "display_data",
          "data": {
            "text/plain": [
              "  0%|          | 0/100 [00:00<?, ?it/s]"
            ],
            "application/vnd.jupyter.widget-view+json": {
              "version_major": 2,
              "version_minor": 0,
              "model_id": "aaac49479edb49559fee0dab6629bcf3"
            }
          },
          "metadata": {}
        },
        {
          "output_type": "display_data",
          "data": {
            "text/plain": [
              "<Figure size 800x910 with 1 Axes>"
            ],
            "image/png": "[encoded data removed]"
          },
          "metadata": {}
        }
      ]
    },
    {
      "cell_type": "markdown",
      "source": [
        "# Confusion matrix, ROC and Precision-Recall curves for test data"
      ],
      "metadata": {
        "id": "daDug1P59r16"
      }
    },
    {
      "cell_type": "code",
      "source": [
        "#Model Predictions\n",
        "\n",
        "y_pred = model.predict(X_test)"
      ],
      "metadata": {
        "id": "ORkB0hrl9A7e"
      },
      "execution_count": null,
      "outputs": []
    },
    {
      "cell_type": "code",
      "source": [
        "#Confusion Matrix\n",
        "\n",
        "confusion_matrix = pd.crosstab(y_test, y_pred, rownames=['Actual'], colnames=['Predicted'])\n",
        "print (confusion_matrix)"
      ],
      "metadata": {
        "colab": {
          "base_uri": "https://localhost:8080/"
        },
        "id": "nq85PFlt9E2v",
        "outputId": "0af52025-72cd-49af-d79d-8bab627fdc76"
      },
      "execution_count": null,
      "outputs": [
        {
          "output_type": "stream",
          "name": "stdout",
          "text": [
            "Predicted   No  Yes\n",
            "Actual             \n",
            "No         845  188\n",
            "Yes        138  236\n"
          ]
        }
      ]
    },
    {
      "cell_type": "code",
      "source": [
        "#Classification Report\n",
        "\n",
        "report = classification_report(y_test, y_pred)\n",
        "print(report)"
      ],
      "metadata": {
        "colab": {
          "base_uri": "https://localhost:8080/"
        },
        "id": "wBPpzo9E9JEr",
        "outputId": "a897de7a-d1c4-4bca-94be-c40f6bfa8f9c"
      },
      "execution_count": null,
      "outputs": [
        {
          "output_type": "stream",
          "name": "stdout",
          "text": [
            "              precision    recall  f1-score   support\n",
            "\n",
            "          No       0.86      0.82      0.84      1033\n",
            "         Yes       0.56      0.63      0.59       374\n",
            "\n",
            "    accuracy                           0.77      1407\n",
            "   macro avg       0.71      0.72      0.71      1407\n",
            "weighted avg       0.78      0.77      0.77      1407\n",
            "\n"
          ]
        }
      ]
    },
    {
      "cell_type": "code",
      "source": [
        "#Mapping labels to binary values\n",
        "\n",
        "y_test_mapped = y_test.map({'Yes': 1, 'No': 0})\n",
        "map_func = np.vectorize(lambda x: 1 if x == 'Yes' else 0)\n",
        "y_pred_mapped= map_func(y_pred)"
      ],
      "metadata": {
        "id": "nD7oGizU-GyJ"
      },
      "execution_count": null,
      "outputs": []
    },
    {
      "cell_type": "code",
      "source": [
        "# Plotting ROC Curve\n",
        "\n",
        "fpr, tpr, threshold= roc_curve(y_test_mapped, y_pred_mapped)\n",
        "\n",
        "plt.plot(fpr, tpr)\n",
        "plt.xlabel('False Positive Rate')\n",
        "plt.ylabel('True Positive Rate')\n",
        "plt.title('ROC Curve')\n",
        "plt.show()"
      ],
      "metadata": {
        "colab": {
          "base_uri": "https://localhost:8080/",
          "height": 472
        },
        "id": "Eq6xq42sBZEN",
        "outputId": "2c1bd47f-d40a-4528-95d2-38cf7c5431e0"
      },
      "execution_count": null,
      "outputs": [
        {
          "output_type": "display_data",
          "data": {
            "text/plain": [
              "<Figure size 640x480 with 1 Axes>"
            ],
            "image/png": "[encoded data removed]"
          },
          "metadata": {}
        }
      ]
    },
    {
      "cell_type": "code",
      "source": [
        "#Plotting Precision-Recall Curve\n",
        "\n",
        "precision, recall, thresholds = precision_recall_curve(y_test_mapped, y_pred_mapped)\n",
        "\n",
        "plt.plot(recall, precision)\n",
        "plt.xlabel('Recall')\n",
        "plt.ylabel('Precision')\n",
        "plt.title('Precision-Recall Curve')\n",
        "plt.show()"
      ],
      "metadata": {
        "colab": {
          "base_uri": "https://localhost:8080/",
          "height": 472
        },
        "id": "siz5UKfD_TUh",
        "outputId": "55397610-8dd9-4ca9-92a2-c8dfbe105a34"
      },
      "execution_count": null,
      "outputs": [
        {
          "output_type": "display_data",
          "data": {
            "text/plain": [
              "<Figure size 640x480 with 1 Axes>"
            ],
            "image/png": "[encoded data removed]"
          },
          "metadata": {}
        }
      ]
    },
    {
      "cell_type": "code",
      "source": [],
      "metadata": {
        "id": "V0WPhzQKAA6U"
      },
      "execution_count": null,
      "outputs": []
    }
  ]
}